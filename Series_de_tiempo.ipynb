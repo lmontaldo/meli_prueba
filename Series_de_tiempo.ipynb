{
  "nbformat": 4,
  "nbformat_minor": 0,
  "metadata": {
    "colab": {
      "private_outputs": true,
      "provenance": [],
      "collapsed_sections": [],
      "toc_visible": true,
      "authorship_tag": "ABX9TyMEfR3zUqsT3dAWXwM3eHMp",
      "include_colab_link": true
    },
    "kernelspec": {
      "name": "python3",
      "display_name": "Python 3"
    },
    "language_info": {
      "name": "python"
    }
  },
  "cells": [
    {
      "cell_type": "markdown",
      "metadata": {
        "id": "view-in-github",
        "colab_type": "text"
      },
      "source": [
        "<a href=\"https://colab.research.google.com/github/lmontaldo/meli_prueba/blob/Jupyter-Colabs/Series_de_tiempo.ipynb\" target=\"_parent\"><img src=\"https://colab.research.google.com/assets/colab-badge.svg\" alt=\"Open In Colab\"/></a>"
      ]
    },
    {
      "cell_type": "markdown",
      "source": [
        "# Series de tiempo\n",
        "\n",
        "Problema: pronosticar la cantidad de unidades diarias que van a\n",
        "vender 3 categorías distintas de MELI"
      ],
      "metadata": {
        "id": "Ed_FtIebTJdE"
      }
    },
    {
      "cell_type": "markdown",
      "source": [
        "El objetivo de este desafío es construir un modelo de forecast que permita estimar las\n",
        "ventas de 3 semanas a nivel diario utilizando la historia de ventas de la categoría. Es\n",
        "decir, predecir las ventas de los siguientes 21 días. \n",
        "\n",
        "\n",
        "Las métricas y la medición de la\n",
        "performance del forecast son un punto clave de este desafío.\n",
        "\n",
        "\n",
        "TIP: Dividir el dataset en entrenamiento, testing y validación correctamente es muy\n",
        "importante en problemas de forecasting!"
      ],
      "metadata": {
        "id": "bFoYq-n2VRhS"
      }
    },
    {
      "cell_type": "code",
      "source": [
        "! pip install pycaret"
      ],
      "metadata": {
        "id": "FzUF-qucxvd_"
      },
      "execution_count": null,
      "outputs": []
    },
    {
      "cell_type": "code",
      "source": [
        "# import the regression module\n",
        "from pycaret.regression import *"
      ],
      "metadata": {
        "id": "H0KQFXiSxdP5"
      },
      "execution_count": null,
      "outputs": []
    },
    {
      "cell_type": "code",
      "source": [
        "import numpy as np\n",
        "import pandas as pd, datetime\n",
        "import seaborn as sns\n",
        "from statsmodels.tsa.stattools import adfuller\n",
        "import matplotlib.pyplot as plt\n",
        "get_ipython().run_line_magic('matplotlib', 'inline')\n",
        "from time import time\n",
        "import os\n",
        "from math import sqrt\n",
        "from statsmodels.tsa.seasonal import seasonal_decompose\n",
        "from statsmodels.graphics.tsaplots import plot_acf, plot_pacf\n",
        "import itertools\n",
        "import statsmodels.api as sm\n",
        "from statsmodels.tsa.stattools import acf,pacf\n",
        "from statsmodels.tsa.arima_model import  ARIMA\n",
        "from sklearn import model_selection\n",
        "from sklearn.metrics import mean_squared_error, r2_score\n",
        "from pandas import DataFrame\n",
        "import xgboost as xgb\n",
        "#from fbprophet import Prophet\n",
        "import warnings\n",
        "warnings.filterwarnings('ignore')"
      ],
      "metadata": {
        "id": "bdF83Ry7Vpha"
      },
      "execution_count": null,
      "outputs": []
    },
    {
      "cell_type": "code",
      "execution_count": null,
      "metadata": {
        "id": "6wiDy-dGyZ1F"
      },
      "outputs": [],
      "source": [
        "import datetime\n",
        "import plotly\n",
        "import plotly.express as px"
      ]
    },
    {
      "cell_type": "code",
      "source": [
        "! git clone https://github.com/lmontaldo/meli_prueba.git\n"
      ],
      "metadata": {
        "id": "4J8I1-I39F_K"
      },
      "execution_count": null,
      "outputs": []
    },
    {
      "cell_type": "code",
      "source": [
        "s='https://raw.githubusercontent.com/lmontaldo/meli_prueba/Datos/series.csv'"
      ],
      "metadata": {
        "id": "6y2GBxJPy2jb"
      },
      "execution_count": null,
      "outputs": []
    },
    {
      "cell_type": "code",
      "source": [
        "df=pd.read_csv(s,low_memory=False, header=[0],sep=',')"
      ],
      "metadata": {
        "id": "_RyAUkwpzGTg"
      },
      "execution_count": null,
      "outputs": []
    },
    {
      "cell_type": "code",
      "source": [
        "df.head()"
      ],
      "metadata": {
        "id": "fzL_WLU40xD8"
      },
      "execution_count": null,
      "outputs": []
    },
    {
      "cell_type": "code",
      "source": [
        "df=df.set_index('DATE')"
      ],
      "metadata": {
        "id": "ClJpqMUjiXFA"
      },
      "execution_count": null,
      "outputs": []
    },
    {
      "cell_type": "code",
      "source": [
        "df.index = pd.to_datetime(df.index)"
      ],
      "metadata": {
        "id": "tAL1Enf2lzZG"
      },
      "execution_count": null,
      "outputs": []
    },
    {
      "cell_type": "code",
      "source": [
        "df_si=df.reset_index()"
      ],
      "metadata": {
        "id": "vXgIjCMoiMyg"
      },
      "execution_count": null,
      "outputs": []
    },
    {
      "cell_type": "code",
      "source": [
        "df.shape"
      ],
      "metadata": {
        "id": "ioherZDoXDaS"
      },
      "execution_count": null,
      "outputs": []
    },
    {
      "cell_type": "code",
      "source": [
        "df.index.min(), df.index.max()"
      ],
      "metadata": {
        "id": "YeeKreaTYNeU"
      },
      "execution_count": null,
      "outputs": []
    },
    {
      "cell_type": "code",
      "source": [
        "df['year'] = pd.DatetimeIndex(df.index).year\n",
        "df['month'] = pd.DatetimeIndex(df.index).month\n",
        "df['day'] = pd.DatetimeIndex(df.index).day\n",
        "df['dayofweek']=pd.DatetimeIndex(df.index).dayofweek"
      ],
      "metadata": {
        "id": "lebLNzXSZALK"
      },
      "execution_count": null,
      "outputs": []
    },
    {
      "cell_type": "code",
      "source": [
        "df.columns"
      ],
      "metadata": {
        "id": "cMAV5VEmZdVA"
      },
      "execution_count": null,
      "outputs": []
    },
    {
      "cell_type": "code",
      "source": [
        "df.sort_index().head(3)"
      ],
      "metadata": {
        "id": "Ojk-ih7TZf4W"
      },
      "execution_count": null,
      "outputs": []
    },
    {
      "cell_type": "markdown",
      "source": [
        "## Análisis de las series"
      ],
      "metadata": {
        "id": "bYwLbtHpW9L7"
      }
    },
    {
      "cell_type": "markdown",
      "source": [
        "### Visualizaciones e insights preliminares"
      ],
      "metadata": {
        "id": "uoHV4n80G1ew"
      }
    },
    {
      "cell_type": "code",
      "source": [
        "df_si=df.reset_index()"
      ],
      "metadata": {
        "id": "-EmiZKWmajfU"
      },
      "execution_count": null,
      "outputs": []
    },
    {
      "cell_type": "code",
      "source": [
        "gp_df=df_si.groupby(['DATE', 'CATEGORY']).agg({'UNITS_SOLD':'sum'}).reset_index()"
      ],
      "metadata": {
        "id": "9v3IX01zbEwn"
      },
      "execution_count": null,
      "outputs": []
    },
    {
      "cell_type": "code",
      "source": [
        "gp_df.head()"
      ],
      "metadata": {
        "id": "pT2VVXzsbDpa"
      },
      "execution_count": null,
      "outputs": []
    },
    {
      "cell_type": "code",
      "source": [
        "fig = px.line(gp_df, x='DATE', y='UNITS_SOLD', color='CATEGORY', title='Unidades vendidas por categoría')\n",
        "fig.show()"
      ],
      "metadata": {
        "id": "CUDYE5gWaR6n"
      },
      "execution_count": null,
      "outputs": []
    },
    {
      "cell_type": "code",
      "source": [
        "df=df.sort_index(ascending=True)"
      ],
      "metadata": {
        "id": "TZs38gsVDfWY"
      },
      "execution_count": null,
      "outputs": []
    },
    {
      "cell_type": "code",
      "source": [
        "df.columns"
      ],
      "metadata": {
        "id": "agp4IXV4EU5T"
      },
      "execution_count": null,
      "outputs": []
    },
    {
      "cell_type": "code",
      "source": [
        "df[df['UNITS_SOLD']==0].tail()"
      ],
      "metadata": {
        "id": "8CGnh1u6EQKw"
      },
      "execution_count": null,
      "outputs": []
    },
    {
      "cell_type": "code",
      "source": [
        "df_si.isnull().sum()"
      ],
      "metadata": {
        "id": "G4LrJ0RqdThE"
      },
      "execution_count": null,
      "outputs": []
    },
    {
      "cell_type": "code",
      "source": [
        "gp_t=df_si.groupby([\"month\", 'year','CATEGORY']).agg({'UNITS_SOLD':'sum'}).reset_index()"
      ],
      "metadata": {
        "id": "xQ8-JnRQfJCA"
      },
      "execution_count": null,
      "outputs": []
    },
    {
      "cell_type": "code",
      "source": [
        "sns.factorplot(data = df_si, x = \"year\", y = \"UNITS_SOLD\", hue = \"CATEGORY\").set(title='Ventas según año de la semana por categoría')\n",
        "plt.show()"
      ],
      "metadata": {
        "id": "B-pS5bPykfIy"
      },
      "execution_count": null,
      "outputs": []
    },
    {
      "cell_type": "code",
      "source": [
        "sns.factorplot(data = df_si, x = \"month\", y = \"UNITS_SOLD\", hue = \"CATEGORY\").set(title='Ventas según mes de la semana por categoría')\n",
        "plt.show()"
      ],
      "metadata": {
        "id": "_zrnQNMEkp2y"
      },
      "execution_count": null,
      "outputs": []
    },
    {
      "cell_type": "code",
      "source": [
        "# domingo=0\n",
        "# del domingo al sabado las ventas dcrecen\n",
        "sns.factorplot(data = df_si, x = \"dayofweek\", y = \"UNITS_SOLD\", hue = \"CATEGORY\").set(title='Ventas según dia de la semana por categoría')\n",
        "plt.show()"
      ],
      "metadata": {
        "id": "WjPxFTZAcTzQ"
      },
      "execution_count": null,
      "outputs": []
    },
    {
      "cell_type": "markdown",
      "source": [
        "### Estacionaridad y estacionalidad de las series"
      ],
      "metadata": {
        "id": "bFSz_-qDGrW9"
      }
    },
    {
      "cell_type": "code",
      "source": [
        "long_vtas=df_si.groupby(['DATE','CATEGORY','year', 'month', 'day']).agg({'UNITS_SOLD':'sum'}).reset_index()\n",
        "long_vtas.head(2)"
      ],
      "metadata": {
        "id": "gHyWUOmDNG0K"
      },
      "execution_count": null,
      "outputs": []
    },
    {
      "cell_type": "code",
      "source": [
        "wide_vtas=pd.pivot(long_vtas, index=['DATE'], columns = 'CATEGORY',values = 'UNITS_SOLD')\n",
        "wide_vtas_si=wide_vtas.reset_index()\n",
        "wide_vtas_si.head()"
      ],
      "metadata": {
        "id": "GfU7ASpePfkt"
      },
      "execution_count": null,
      "outputs": []
    },
    {
      "cell_type": "code",
      "source": [
        "wide_vtas_si[wide_vtas_si['CATEG-1'].isnull()].max()"
      ],
      "metadata": {
        "id": "R5NZdLIVIbL0"
      },
      "execution_count": null,
      "outputs": []
    },
    {
      "cell_type": "code",
      "source": [
        "# me quedo con las series enteras \n",
        "wide=wide_vtas_si[wide_vtas_si['DATE']>'2018-11-11']"
      ],
      "metadata": {
        "id": "9gt9Am_WQY_k"
      },
      "execution_count": null,
      "outputs": []
    },
    {
      "cell_type": "code",
      "source": [
        "wide=wide.set_index('DATE')"
      ],
      "metadata": {
        "id": "etK_KZEOzMui"
      },
      "execution_count": null,
      "outputs": []
    },
    {
      "cell_type": "code",
      "source": [
        "wide['year'] = pd.DatetimeIndex(wide.index).year\n",
        "wide['month'] = pd.DatetimeIndex(wide.index).month\n",
        "wide['day'] = pd.DatetimeIndex(wide.index).day\n",
        "wide['dayofweek']=pd.DatetimeIndex(wide.index).dayofweek"
      ],
      "metadata": {
        "id": "bV8VTc3OzL8q"
      },
      "execution_count": null,
      "outputs": []
    },
    {
      "cell_type": "code",
      "source": [
        "wide.head()"
      ],
      "metadata": {
        "id": "2tAoICrLI0Zt"
      },
      "execution_count": null,
      "outputs": []
    },
    {
      "cell_type": "code",
      "source": [
        "#sales_1 = np.log2(df[df.CATEGORY == 'CATEG-1']['UNITS_SOLD'])\n",
        "#sales_2 = np.log2(df[df.CATEGORY == 'CATEG-2']['UNITS_SOLD'])\n",
        "#sales_3 = np.log2(df[df.CATEGORY == 'CATEG-3']['UNITS_SOLD'])"
      ],
      "metadata": {
        "id": "g3ewLbtuoH-l"
      },
      "execution_count": null,
      "outputs": []
    },
    {
      "cell_type": "code",
      "source": [
        "#logs\n",
        "logs=wide.copy()\n",
        "logs['v_c1'] = np.log2(logs['CATEG-1'])\n",
        "logs['v_c2'] = np.log2(logs['CATEG-2'])\n",
        "logs['v_c3'] = np.log2(logs['CATEG-3'])\n",
        "logs.head()"
      ],
      "metadata": {
        "id": "N4CTOJr_J7TF"
      },
      "execution_count": null,
      "outputs": []
    },
    {
      "cell_type": "code",
      "source": [
        "logs.columns"
      ],
      "metadata": {
        "id": "SAZ-i56UNvsF"
      },
      "execution_count": null,
      "outputs": []
    },
    {
      "cell_type": "code",
      "source": [
        "logs_si=logs.reset_index()"
      ],
      "metadata": {
        "id": "ntGl3qYhrb6a"
      },
      "execution_count": null,
      "outputs": []
    },
    {
      "cell_type": "code",
      "source": [
        "logs_si.plot(x='DATE', y=['v_c1', 'v_c2', 'v_c3'], kind=\"line\", figsize=(9, 8))\n",
        "plt.title('series en log')\n",
        "plt.show()"
      ],
      "metadata": {
        "id": "0RsLUcHmKqEo"
      },
      "execution_count": null,
      "outputs": []
    },
    {
      "cell_type": "code",
      "source": [
        "logs_si['dv_c1'] = logs_si['v_c1'].diff()\n",
        "logs_si['dv_c2'] = logs_si['v_c1'].diff()\n",
        "logs_si['dv_c3'] = logs_si['v_c1'].diff()"
      ],
      "metadata": {
        "id": "tTWclObpPNBN"
      },
      "execution_count": null,
      "outputs": []
    },
    {
      "cell_type": "code",
      "source": [
        "logs_si.head()"
      ],
      "metadata": {
        "id": "bfjZUPsrrsdF"
      },
      "execution_count": null,
      "outputs": []
    },
    {
      "cell_type": "code",
      "source": [
        "logs_si=logs_si.iloc[1:]"
      ],
      "metadata": {
        "id": "2ZrrcRXsrp3O"
      },
      "execution_count": null,
      "outputs": []
    },
    {
      "cell_type": "code",
      "source": [
        "fig, axs = plt.subplots(ncols=3, figsize=(12,5))\n",
        "logs_si.plot(x='DATE', y=['dv_c1'], kind=\"line\", ax=axs[0])\n",
        "logs_si.plot(x='DATE', y=['dv_c2'], kind=\"line\", ax=axs[1])\n",
        "logs_si.plot(x='DATE', y=['dv_c2'], kind=\"line\", ax=axs[2])\n",
        "plt.title('Ventas de las categorias en primeras diferencias')\n",
        "plt.show()"
      ],
      "metadata": {
        "id": "b8cwEoFPqCrJ"
      },
      "execution_count": null,
      "outputs": []
    },
    {
      "cell_type": "code",
      "source": [
        "logs=logs_si.set_index('DATE')"
      ],
      "metadata": {
        "id": "qi35rLZhuHQ_"
      },
      "execution_count": null,
      "outputs": []
    },
    {
      "cell_type": "code",
      "source": [
        "# Function to test the stationarity\n",
        "def test_stationarity(timeseries):\n",
        "    \n",
        "    # Determing rolling statistics\n",
        "    roll_mean = timeseries.rolling(window=7).mean()\n",
        "    roll_std = timeseries.rolling(window=7).std()\n",
        "# Plotting rolling statistics:\n",
        "    orig = plt.plot(timeseries.resample('W').mean(), color='blue',label='Original')\n",
        "    mean = plt.plot(roll_mean.resample('W').mean(), color='red', label='Rolling Mean')\n",
        "    std = plt.plot(roll_std.resample('W').mean(), color='green', label = 'Rolling Std')\n",
        "    plt.legend(loc='best')\n",
        "    plt.title('Descomposición de las series')\n",
        "    plt.show(block=False)\n",
        "    \n",
        "  # Performing Dickey-Fuller test:\n",
        "    print('Results of Dickey-Fuller Test, model constant only:')\n",
        "    result = adfuller(timeseries, autolag='AIC')\n",
        "    print('ADF Statistic: %f' % result[0])\n",
        "    print('p-value: %f' % result[1])\n",
        "    print('Critical Values:')\n",
        "    for key, value in result[4].items():\n",
        "           print(key, value)\n",
        "    # Performing Dickey-Fuller test, constant and trend:\n",
        "    print('Results of Dickey-Fuller Test, model constant and trend:')\n",
        "    result = adfuller(timeseries, autolag='AIC',regression='ct' )\n",
        "    print('ADF Statistic: %f' % result[0])\n",
        "    print('p-value: %f' % result[1])\n",
        "    print('Critical Values:')\n",
        "    for key, value in result[4].items():\n",
        "           print(key, value) \n",
        "      # Performing Dickey-Fuller test, no constant, no trend:\n",
        "    print('Results of Dickey-Fuller Test, model no constant and trend:')\n",
        "    result = adfuller(timeseries, autolag='AIC',regression='nc' )\n",
        "    print('ADF Statistic: %f' % result[0])\n",
        "    print('p-value: %f' % result[1])\n",
        "    print('Critical Values:')\n",
        "    for key, value in result[4].items():\n",
        "           print(key, value)                 \n",
        "# Testing stationarity of store type a\n",
        "test_stationarity(logs.dv_c1)"
      ],
      "metadata": {
        "id": "mTg89ROSt68Y"
      },
      "execution_count": null,
      "outputs": []
    },
    {
      "cell_type": "code",
      "source": [
        "test_stationarity(logs.dv_c2)"
      ],
      "metadata": {
        "id": "MG3j8bgcuT4f"
      },
      "execution_count": null,
      "outputs": []
    },
    {
      "cell_type": "code",
      "source": [
        "test_stationarity(logs.dv_c3)"
      ],
      "metadata": {
        "id": "4CmRjT73uYDM"
      },
      "execution_count": null,
      "outputs": []
    },
    {
      "cell_type": "markdown",
      "source": [
        "$\\text{H0) Raíz unitaria, H1) No Raíz unitaria}$ cuando el p-valor está por debajo de un determinado valore crítico, entonces no se rechaza $H_0$. Para el modelo con constante sólo y para el modelo con constante y con tendencia los p-valores son inferiores a un valor crítico de 0.05, entonces no se rechaza $H_0$.\n",
        "En primeras diferencias, las series son estacionarias. Con esto en mente se podría pensar en modelizar las series con SARIMAS, detectandos patrones estacionales y probar de ajustar distintos modelos para compararlos con los resultados que siguen a continuación."
      ],
      "metadata": {
        "id": "sMVxckIYu2xm"
      }
    },
    {
      "cell_type": "code",
      "source": [
        "from statsmodels.tsa.seasonal import seasonal_decompose\n",
        "from matplotlib import pyplot\n",
        "result1=seasonal_decompose(logs.dv_c1, model='additive', period=36)\n",
        "result1.plot()\n",
        "pyplot.show()"
      ],
      "metadata": {
        "id": "1fwjrKYfu4nd"
      },
      "execution_count": null,
      "outputs": []
    },
    {
      "cell_type": "code",
      "source": [
        "result2=seasonal_decompose(logs.dv_c2, model='additive', period=24)\n",
        "result2.plot()\n",
        "pyplot.show()"
      ],
      "metadata": {
        "id": "rfQIz_vhvIjO"
      },
      "execution_count": null,
      "outputs": []
    },
    {
      "cell_type": "code",
      "source": [
        "result3=seasonal_decompose(logs.dv_c3, model='additive',period=12)\n",
        "result3.plot()\n",
        "pyplot.show()"
      ],
      "metadata": {
        "id": "FTXqaQSLwFBy"
      },
      "execution_count": null,
      "outputs": []
    },
    {
      "cell_type": "markdown",
      "source": [
        "## Modelos para la series temporales univariadas"
      ],
      "metadata": {
        "id": "B_1OBAqylDZ0"
      }
    },
    {
      "cell_type": "code",
      "source": [
        "df.columns"
      ],
      "metadata": {
        "id": "EoxnkHONoKLC"
      },
      "execution_count": null,
      "outputs": []
    },
    {
      "cell_type": "markdown",
      "source": [
        "#### Defino las muestras de train y test "
      ],
      "metadata": {
        "id": "LHFFSBQRRW3h"
      }
    },
    {
      "cell_type": "code",
      "source": [
        "wide.shape[0]*0.8"
      ],
      "metadata": {
        "id": "dE1Y0MRVQvxb"
      },
      "execution_count": null,
      "outputs": []
    },
    {
      "cell_type": "code",
      "source": [
        "wide=wide.reset_index()"
      ],
      "metadata": {
        "id": "xUwKULyXzE_0"
      },
      "execution_count": null,
      "outputs": []
    },
    {
      "cell_type": "code",
      "source": [
        "train=wide.iloc[:707,:]\n",
        "train.tail()"
      ],
      "metadata": {
        "id": "r_F0tX0AQ46S"
      },
      "execution_count": null,
      "outputs": []
    },
    {
      "cell_type": "code",
      "source": [
        "test=wide.iloc[707:,:]\n",
        "test.head()"
      ],
      "metadata": {
        "id": "gp20bYtbRCss"
      },
      "execution_count": null,
      "outputs": []
    },
    {
      "cell_type": "code",
      "source": [
        "train.shape, test.shape"
      ],
      "metadata": {
        "id": "uVAf5wjRRN0T"
      },
      "execution_count": null,
      "outputs": []
    },
    {
      "cell_type": "code",
      "source": [
        "train.columns"
      ],
      "metadata": {
        "id": "getfo4MmxqOd"
      },
      "execution_count": null,
      "outputs": []
    },
    {
      "cell_type": "markdown",
      "source": [
        "#### Análisis para la categoría 1"
      ],
      "metadata": {
        "id": "pk9c_8kU-xyh"
      }
    },
    {
      "cell_type": "code",
      "source": [
        "train1=train[['year',\t'month'\t,'day', 'CATEG-1']]"
      ],
      "metadata": {
        "id": "KQcyvYwv41p4"
      },
      "execution_count": null,
      "outputs": []
    },
    {
      "cell_type": "code",
      "source": [
        "test1=test[['year',\t'month'\t,'day', 'CATEG-1']]"
      ],
      "metadata": {
        "id": "skGzmzqK5Buj"
      },
      "execution_count": null,
      "outputs": []
    },
    {
      "cell_type": "code",
      "source": [
        "wide.columns"
      ],
      "metadata": {
        "id": "MFjsoZ5b6JE3"
      },
      "execution_count": null,
      "outputs": []
    },
    {
      "cell_type": "code",
      "source": [
        "wide1=wide[['year',\t'month'\t,'day', 'CATEG-1']]"
      ],
      "metadata": {
        "id": "c47E74ME58dQ"
      },
      "execution_count": null,
      "outputs": []
    },
    {
      "cell_type": "code",
      "source": [
        "# initialize setup\n",
        "s = setup(data = train1, test_data = test1, target = 'CATEG-1', fold_strategy = 'timeseries', numeric_features = ['year', 'month','day'],fold = 3, transform_target = True, session_id = 123)\n"
      ],
      "metadata": {
        "id": "1ZUObdwqxo0W"
      },
      "execution_count": null,
      "outputs": []
    },
    {
      "cell_type": "code",
      "source": [
        "best = compare_models(sort = 'MAE')"
      ],
      "metadata": {
        "id": "XqMVQrdyyrW3"
      },
      "execution_count": null,
      "outputs": []
    },
    {
      "cell_type": "markdown",
      "source": [
        "The best model using 3 fold cross-validation based on Mean Absolute Error (MAE) is AdaBoost Regressor."
      ],
      "metadata": {
        "id": "GUvid9yv0XoA"
      }
    },
    {
      "cell_type": "code",
      "source": [
        "train1.columns"
      ],
      "metadata": {
        "id": "uKAvA-xR0rtu"
      },
      "execution_count": null,
      "outputs": []
    },
    {
      "cell_type": "code",
      "source": [
        "train.tail()# 2021-05-19"
      ],
      "metadata": {
        "id": "SHf2nymT0zUd"
      },
      "execution_count": null,
      "outputs": []
    },
    {
      "cell_type": "code",
      "source": [
        "# creo fechas futuras\n",
        "future_dates = pd.date_range(start = '2021-11-13', end = '2021-12-04', freq = 'D')\n",
        "future_df = pd.DataFrame()\n",
        "future_df['month'] = [i.month for i in future_dates]\n",
        "future_df['year'] = [i.year for i in future_dates]    \n",
        "future_df['day'] = [i.day for i in future_dates] \n",
        "future_df.head()"
      ],
      "metadata": {
        "id": "yHKwwAiR0U7j"
      },
      "execution_count": null,
      "outputs": []
    },
    {
      "cell_type": "code",
      "source": [
        "predictions_future = predict_model(best, data=future_df)\n",
        "predictions_future.head()"
      ],
      "metadata": {
        "id": "zy3V_vHF3hxi"
      },
      "execution_count": null,
      "outputs": []
    },
    {
      "cell_type": "code",
      "source": [
        "wide1.tail()"
      ],
      "metadata": {
        "id": "hQVrcf1X6cN_"
      },
      "execution_count": null,
      "outputs": []
    },
    {
      "cell_type": "code",
      "source": [
        "concat_df = pd.concat([wide1,predictions_future], axis=0)\n",
        "concat_df.head()"
      ],
      "metadata": {
        "id": "6Q9EJwKl5yyT"
      },
      "execution_count": null,
      "outputs": []
    },
    {
      "cell_type": "code",
      "source": [
        "concat_df['fechas']=pd.to_datetime(concat_df[['year', 'month', 'day']])"
      ],
      "metadata": {
        "id": "tRTAflYI7Ryl"
      },
      "execution_count": null,
      "outputs": []
    },
    {
      "cell_type": "code",
      "source": [
        "concat_df.set_index('fechas', inplace=True)"
      ],
      "metadata": {
        "id": "bb1Mmwk0693G"
      },
      "execution_count": null,
      "outputs": []
    },
    {
      "cell_type": "code",
      "source": [
        "fig = px.line(concat_df, x=concat_df.index, y=['CATEG-1', 'Label'], template = 'plotly_dark',title='proyecciones de ventas categoría 1')\n",
        "fig.show()"
      ],
      "metadata": {
        "id": "-lzWGTxG66ZQ"
      },
      "execution_count": null,
      "outputs": []
    },
    {
      "cell_type": "markdown",
      "source": [
        "#### Análisis para la categoría 2"
      ],
      "metadata": {
        "id": "Fyz4Lyp3_IJj"
      }
    },
    {
      "cell_type": "code",
      "source": [
        "train2=train[['year',\t'month'\t,'day', 'CATEG-2']]\n",
        "test2=test[['year',\t'month'\t,'day', 'CATEG-2']]"
      ],
      "metadata": {
        "id": "achELpux_Pjy"
      },
      "execution_count": null,
      "outputs": []
    },
    {
      "cell_type": "code",
      "source": [
        "wide2=wide[['year',\t'month'\t,'day', 'CATEG-2']]"
      ],
      "metadata": {
        "id": "ly2cDLhI_U66"
      },
      "execution_count": null,
      "outputs": []
    },
    {
      "cell_type": "code",
      "source": [
        "s = setup(data = train2, test_data = test2, target = 'CATEG-2', fold_strategy = 'timeseries', numeric_features = ['year', 'month','day'],fold = 3, transform_target = True, session_id = 123)"
      ],
      "metadata": {
        "id": "txSfpWo3_b-h"
      },
      "execution_count": null,
      "outputs": []
    },
    {
      "cell_type": "code",
      "source": [
        "best2 = compare_models(sort = 'MAE')"
      ],
      "metadata": {
        "id": "27UuFDNw_6Hw"
      },
      "execution_count": null,
      "outputs": []
    },
    {
      "cell_type": "code",
      "source": [
        "predictions_future2 = predict_model(best2, data=future_df)\n",
        "predictions_future2.head()"
      ],
      "metadata": {
        "id": "DT2ZZ_xlAEZ4"
      },
      "execution_count": null,
      "outputs": []
    },
    {
      "cell_type": "code",
      "source": [
        "concat_df2 = pd.concat([wide2,predictions_future2], axis=0)\n",
        "concat_df2['fechas']=pd.to_datetime(concat_df2[['year', 'month', 'day']])\n",
        "concat_df2.set_index('fechas', inplace=True)\n",
        "fig = px.line(concat_df2, x=concat_df2.index, y=['CATEG-2', 'Label'], template = 'plotly_dark',title='proyecciones de ventas categoría 2')\n",
        "fig.show()"
      ],
      "metadata": {
        "id": "H6xoy5eBAfTv"
      },
      "execution_count": null,
      "outputs": []
    },
    {
      "cell_type": "markdown",
      "source": [
        "#### Análisis para la categoría 3"
      ],
      "metadata": {
        "id": "x1CIH139BALB"
      }
    },
    {
      "cell_type": "code",
      "source": [
        "# cat 3\n",
        "train3=train[['year',\t'month'\t,'day', 'CATEG-3']]\n"
      ],
      "metadata": {
        "id": "pUjr4jnJCIGL"
      },
      "execution_count": null,
      "outputs": []
    },
    {
      "cell_type": "code",
      "source": [
        "test3=test[['year',\t'month'\t,'day', 'CATEG-3']]\n",
        "wide3=wide[['year',\t'month'\t,'day', 'CATEG-3']]\n"
      ],
      "metadata": {
        "id": "F9SS1t2VCJZr"
      },
      "execution_count": null,
      "outputs": []
    },
    {
      "cell_type": "code",
      "source": [
        "s = setup(data = train3, test_data = test3, target = 'CATEG-3', fold_strategy = 'timeseries', numeric_features = ['year', 'month','day'],fold = 3, transform_target = True, session_id = 123)\n"
      ],
      "metadata": {
        "id": "dkbTKIMqCKwr"
      },
      "execution_count": null,
      "outputs": []
    },
    {
      "cell_type": "code",
      "source": [
        "best3 = compare_models(sort = 'MAE')"
      ],
      "metadata": {
        "id": "O6ZPxmUjCL8L"
      },
      "execution_count": null,
      "outputs": []
    },
    {
      "cell_type": "code",
      "source": [
        "predictions_future3 = predict_model(best3, data=future_df)\n",
        "predictions_future3.head()"
      ],
      "metadata": {
        "id": "MDUgdmCMCM6_"
      },
      "execution_count": null,
      "outputs": []
    },
    {
      "cell_type": "code",
      "source": [
        "concat_df3 = pd.concat([wide3,predictions_future3], axis=0)\n",
        "concat_df3['fechas']=pd.to_datetime(concat_df3[['year', 'month', 'day']])\n",
        "concat_df3.set_index('fechas', inplace=True)\n",
        "fig = px.line(concat_df3, x=concat_df3.index, y=['CATEG-3', 'Label'], template = 'plotly_dark',title='proyecciones de ventas categoría 3')\n",
        "fig.show()"
      ],
      "metadata": {
        "id": "a8-xaG-3ChDD"
      },
      "execution_count": null,
      "outputs": []
    },
    {
      "cell_type": "markdown",
      "source": [
        "## Fuentes\n",
        "\n",
        "* https://builtin.com/data-science/time-series-forecasting-python\n",
        "\n",
        "* https://towardsdatascience.com/train-test-split-and-cross-validation-in-python-80b61beca4b6\n",
        "\n",
        "* https://www.datacamp.com/tutorial/tutorial-time-series-forecasting\n",
        "\n",
        "* https://towardsdatascience.com/time-series-forecasting-based-on-the-trend-and-seasonal-components-26b92866e548"
      ],
      "metadata": {
        "id": "egsp6FYezlkS"
      }
    }
  ]
}