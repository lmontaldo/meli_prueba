{
  "nbformat": 4,
  "nbformat_minor": 0,
  "metadata": {
    "colab": {
      "provenance": [],
      "collapsed_sections": [],
      "toc_visible": true,
      "authorship_tag": "ABX9TyP9fHCzMyvh5b3VAPbmstKZ",
      "include_colab_link": true
    },
    "kernelspec": {
      "name": "python3",
      "display_name": "Python 3"
    },
    "language_info": {
      "name": "python"
    },
    "gpuClass": "standard"
  },
  "cells": [
    {
      "cell_type": "markdown",
      "metadata": {
        "id": "view-in-github",
        "colab_type": "text"
      },
      "source": [
        "<a href=\"https://colab.research.google.com/github/lmontaldo/meli_prueba/blob/Jupyter-Colabs/3_Similitud_entre_productos.ipynb\" target=\"_parent\"><img src=\"https://colab.research.google.com/assets/colab-badge.svg\" alt=\"Open In Colab\"/></a>"
      ]
    },
    {
      "cell_type": "markdown",
      "source": [
        "# Similitud entre productos"
      ],
      "metadata": {
        "id": "Ed_FtIebTJdE"
      }
    },
    {
      "cell_type": "code",
      "execution_count": 1,
      "metadata": {
        "id": "6wiDy-dGyZ1F"
      },
      "outputs": [],
      "source": [
        "import pandas as pd\n",
        "import requests\n",
        "import io\n",
        "import datetime\n",
        "import seaborn as sns\n",
        "import plotly\n",
        "import matplotlib.pyplot as plt\n",
        "plt.style.use('seaborn')\n",
        "import numpy as np\n",
        "%matplotlib inline\n",
        "import plotly.express as px"
      ]
    },
    {
      "cell_type": "code",
      "source": [
        "from fuzzywuzzy import process, fuzz\n",
        "import Levenshtein"
      ],
      "metadata": {
        "id": "ySeH6iZs1A6-"
      },
      "execution_count": 2,
      "outputs": []
    },
    {
      "cell_type": "code",
      "source": [
        "! git clone https://github.com/lmontaldo/meli_prueba.git"
      ],
      "metadata": {
        "colab": {
          "base_uri": "https://localhost:8080/"
        },
        "id": "muFbEzrSytx0",
        "outputId": "a8d82615-6779-49c3-a80b-74379ba3c275"
      },
      "execution_count": 3,
      "outputs": [
        {
          "output_type": "stream",
          "name": "stdout",
          "text": [
            "fatal: destination path 'meli_prueba' already exists and is not an empty directory.\n"
          ]
        }
      ]
    },
    {
      "cell_type": "code",
      "source": [
        "s='https://raw.githubusercontent.com/lmontaldo/meli_prueba/Datos/items_titles.csv'"
      ],
      "metadata": {
        "id": "6y2GBxJPy2jb"
      },
      "execution_count": 4,
      "outputs": []
    },
    {
      "cell_type": "code",
      "source": [
        "simi=pd.read_csv(s,low_memory=False, header=[0],sep=',')"
      ],
      "metadata": {
        "id": "_RyAUkwpzGTg"
      },
      "execution_count": 5,
      "outputs": []
    },
    {
      "cell_type": "code",
      "source": [
        "simi.head()"
      ],
      "metadata": {
        "colab": {
          "base_uri": "https://localhost:8080/",
          "height": 206
        },
        "id": "nQyzCb19zNo_",
        "outputId": "b50cb33d-6f6d-4f3e-a9aa-0dd2c56edd10"
      },
      "execution_count": 6,
      "outputs": [
        {
          "output_type": "execute_result",
          "data": {
            "text/plain": [
              "                                      ITE_ITEM_TITLE\n",
              "0  Tênis Ascension Posh Masculino - Preto E Verme...\n",
              "1  Tenis Para Caminhada Super Levinho Spider Corr...\n",
              "2  Tênis Feminino Le Parc Hocks Black/ice Origina...\n",
              "3  Tênis Olympikus Esportivo Academia Nova Tendên...\n",
              "4  Inteligente Led Bicicleta Tauda Luz Usb Bicicl..."
            ],
            "text/html": [
              "\n",
              "  <div id=\"df-2bca42e1-e4ed-487a-af95-8f86ba8f6be4\">\n",
              "    <div class=\"colab-df-container\">\n",
              "      <div>\n",
              "<style scoped>\n",
              "    .dataframe tbody tr th:only-of-type {\n",
              "        vertical-align: middle;\n",
              "    }\n",
              "\n",
              "    .dataframe tbody tr th {\n",
              "        vertical-align: top;\n",
              "    }\n",
              "\n",
              "    .dataframe thead th {\n",
              "        text-align: right;\n",
              "    }\n",
              "</style>\n",
              "<table border=\"1\" class=\"dataframe\">\n",
              "  <thead>\n",
              "    <tr style=\"text-align: right;\">\n",
              "      <th></th>\n",
              "      <th>ITE_ITEM_TITLE</th>\n",
              "    </tr>\n",
              "  </thead>\n",
              "  <tbody>\n",
              "    <tr>\n",
              "      <th>0</th>\n",
              "      <td>Tênis Ascension Posh Masculino - Preto E Verme...</td>\n",
              "    </tr>\n",
              "    <tr>\n",
              "      <th>1</th>\n",
              "      <td>Tenis Para Caminhada Super Levinho Spider Corr...</td>\n",
              "    </tr>\n",
              "    <tr>\n",
              "      <th>2</th>\n",
              "      <td>Tênis Feminino Le Parc Hocks Black/ice Origina...</td>\n",
              "    </tr>\n",
              "    <tr>\n",
              "      <th>3</th>\n",
              "      <td>Tênis Olympikus Esportivo Academia Nova Tendên...</td>\n",
              "    </tr>\n",
              "    <tr>\n",
              "      <th>4</th>\n",
              "      <td>Inteligente Led Bicicleta Tauda Luz Usb Bicicl...</td>\n",
              "    </tr>\n",
              "  </tbody>\n",
              "</table>\n",
              "</div>\n",
              "      <button class=\"colab-df-convert\" onclick=\"convertToInteractive('df-2bca42e1-e4ed-487a-af95-8f86ba8f6be4')\"\n",
              "              title=\"Convert this dataframe to an interactive table.\"\n",
              "              style=\"display:none;\">\n",
              "        \n",
              "  <svg xmlns=\"http://www.w3.org/2000/svg\" height=\"24px\"viewBox=\"0 0 24 24\"\n",
              "       width=\"24px\">\n",
              "    <path d=\"M0 0h24v24H0V0z\" fill=\"none\"/>\n",
              "    <path d=\"M18.56 5.44l.94 2.06.94-2.06 2.06-.94-2.06-.94-.94-2.06-.94 2.06-2.06.94zm-11 1L8.5 8.5l.94-2.06 2.06-.94-2.06-.94L8.5 2.5l-.94 2.06-2.06.94zm10 10l.94 2.06.94-2.06 2.06-.94-2.06-.94-.94-2.06-.94 2.06-2.06.94z\"/><path d=\"M17.41 7.96l-1.37-1.37c-.4-.4-.92-.59-1.43-.59-.52 0-1.04.2-1.43.59L10.3 9.45l-7.72 7.72c-.78.78-.78 2.05 0 2.83L4 21.41c.39.39.9.59 1.41.59.51 0 1.02-.2 1.41-.59l7.78-7.78 2.81-2.81c.8-.78.8-2.07 0-2.86zM5.41 20L4 18.59l7.72-7.72 1.47 1.35L5.41 20z\"/>\n",
              "  </svg>\n",
              "      </button>\n",
              "      \n",
              "  <style>\n",
              "    .colab-df-container {\n",
              "      display:flex;\n",
              "      flex-wrap:wrap;\n",
              "      gap: 12px;\n",
              "    }\n",
              "\n",
              "    .colab-df-convert {\n",
              "      background-color: #E8F0FE;\n",
              "      border: none;\n",
              "      border-radius: 50%;\n",
              "      cursor: pointer;\n",
              "      display: none;\n",
              "      fill: #1967D2;\n",
              "      height: 32px;\n",
              "      padding: 0 0 0 0;\n",
              "      width: 32px;\n",
              "    }\n",
              "\n",
              "    .colab-df-convert:hover {\n",
              "      background-color: #E2EBFA;\n",
              "      box-shadow: 0px 1px 2px rgba(60, 64, 67, 0.3), 0px 1px 3px 1px rgba(60, 64, 67, 0.15);\n",
              "      fill: #174EA6;\n",
              "    }\n",
              "\n",
              "    [theme=dark] .colab-df-convert {\n",
              "      background-color: #3B4455;\n",
              "      fill: #D2E3FC;\n",
              "    }\n",
              "\n",
              "    [theme=dark] .colab-df-convert:hover {\n",
              "      background-color: #434B5C;\n",
              "      box-shadow: 0px 1px 3px 1px rgba(0, 0, 0, 0.15);\n",
              "      filter: drop-shadow(0px 1px 2px rgba(0, 0, 0, 0.3));\n",
              "      fill: #FFFFFF;\n",
              "    }\n",
              "  </style>\n",
              "\n",
              "      <script>\n",
              "        const buttonEl =\n",
              "          document.querySelector('#df-2bca42e1-e4ed-487a-af95-8f86ba8f6be4 button.colab-df-convert');\n",
              "        buttonEl.style.display =\n",
              "          google.colab.kernel.accessAllowed ? 'block' : 'none';\n",
              "\n",
              "        async function convertToInteractive(key) {\n",
              "          const element = document.querySelector('#df-2bca42e1-e4ed-487a-af95-8f86ba8f6be4');\n",
              "          const dataTable =\n",
              "            await google.colab.kernel.invokeFunction('convertToInteractive',\n",
              "                                                     [key], {});\n",
              "          if (!dataTable) return;\n",
              "\n",
              "          const docLinkHtml = 'Like what you see? Visit the ' +\n",
              "            '<a target=\"_blank\" href=https://colab.research.google.com/notebooks/data_table.ipynb>data table notebook</a>'\n",
              "            + ' to learn more about interactive tables.';\n",
              "          element.innerHTML = '';\n",
              "          dataTable['output_type'] = 'display_data';\n",
              "          await google.colab.output.renderOutput(dataTable, element);\n",
              "          const docLink = document.createElement('div');\n",
              "          docLink.innerHTML = docLinkHtml;\n",
              "          element.appendChild(docLink);\n",
              "        }\n",
              "      </script>\n",
              "    </div>\n",
              "  </div>\n",
              "  "
            ]
          },
          "metadata": {},
          "execution_count": 6
        }
      ]
    },
    {
      "cell_type": "markdown",
      "source": [
        "Problema: determinar cuán similares son dos títulos del dataset."
      ],
      "metadata": {
        "id": "E4jrqytG0xQY"
      }
    },
    {
      "cell_type": "code",
      "source": [
        "simi.shape"
      ],
      "metadata": {
        "colab": {
          "base_uri": "https://localhost:8080/"
        },
        "id": "fzL_WLU40xD8",
        "outputId": "f493625b-f47b-4df6-ae90-fd331353160f"
      },
      "execution_count": 7,
      "outputs": [
        {
          "output_type": "execute_result",
          "data": {
            "text/plain": [
              "(30000, 1)"
            ]
          },
          "metadata": {},
          "execution_count": 7
        }
      ]
    },
    {
      "cell_type": "code",
      "source": [
        "simi.duplicated().sum()"
      ],
      "metadata": {
        "colab": {
          "base_uri": "https://localhost:8080/"
        },
        "id": "3XQwUvy83a0A",
        "outputId": "8c9036cf-4c87-4d10-cfc5-5d697b650395"
      },
      "execution_count": 8,
      "outputs": [
        {
          "output_type": "execute_result",
          "data": {
            "text/plain": [
              "0"
            ]
          },
          "metadata": {},
          "execution_count": 8
        }
      ]
    },
    {
      "cell_type": "code",
      "source": [
        "simi.isnull().sum()"
      ],
      "metadata": {
        "colab": {
          "base_uri": "https://localhost:8080/"
        },
        "id": "jcJVqhPqA5ZP",
        "outputId": "e6cba3c1-204a-40b4-c541-96eb37c61de8"
      },
      "execution_count": 9,
      "outputs": [
        {
          "output_type": "execute_result",
          "data": {
            "text/plain": [
              "ITE_ITEM_TITLE    0\n",
              "dtype: int64"
            ]
          },
          "metadata": {},
          "execution_count": 9
        }
      ]
    },
    {
      "cell_type": "code",
      "source": [
        "simi.columns"
      ],
      "metadata": {
        "colab": {
          "base_uri": "https://localhost:8080/"
        },
        "id": "fsXbC2Oj3oLe",
        "outputId": "c6767a10-a2ea-42ea-947e-b4d45048296f"
      },
      "execution_count": 10,
      "outputs": [
        {
          "output_type": "execute_result",
          "data": {
            "text/plain": [
              "Index(['ITE_ITEM_TITLE'], dtype='object')"
            ]
          },
          "metadata": {},
          "execution_count": 10
        }
      ]
    },
    {
      "cell_type": "code",
      "source": [
        "import string\n",
        "string.punctuation"
      ],
      "metadata": {
        "colab": {
          "base_uri": "https://localhost:8080/",
          "height": 36
        },
        "id": "Lwz2ewX24Xa0",
        "outputId": "7c240592-f8b0-4347-aa5a-9b33bbfae597"
      },
      "execution_count": 11,
      "outputs": [
        {
          "output_type": "execute_result",
          "data": {
            "text/plain": [
              "'!\"#$%&\\'()*+,-./:;<=>?@[\\\\]^_`{|}~'"
            ],
            "application/vnd.google.colaboratory.intrinsic+json": {
              "type": "string"
            }
          },
          "metadata": {},
          "execution_count": 11
        }
      ]
    },
    {
      "cell_type": "code",
      "source": [
        "# funcion para remover signos y simbolos\n",
        "def remove_punctuation(text):\n",
        "    punctuationfree=\"\".join([i for i in text if i not in string.punctuation])\n",
        "    return punctuationfree"
      ],
      "metadata": {
        "id": "9F6fqSPw3h6u"
      },
      "execution_count": 12,
      "outputs": []
    },
    {
      "cell_type": "code",
      "source": [
        "# puntuation\n",
        "simi['clean']= simi['ITE_ITEM_TITLE'].apply(lambda x:remove_punctuation(x))"
      ],
      "metadata": {
        "id": "vxuqnuMB4Uol"
      },
      "execution_count": 13,
      "outputs": []
    },
    {
      "cell_type": "code",
      "source": [
        "# accents\n",
        "simi['clean']=simi['clean'].str.normalize('NFKD').str.encode('ascii', errors='ignore').str.decode('utf-8')"
      ],
      "metadata": {
        "id": "qBJi75CA6xM5"
      },
      "execution_count": 14,
      "outputs": []
    },
    {
      "cell_type": "code",
      "source": [
        "import nltk\n",
        "nltk.download('wordnet')\n",
        "nltk.download('omw-1.4')\n",
        "from nltk.tokenize import RegexpTokenizer\n",
        "from nltk.stem import WordNetLemmatizer,PorterStemmer\n",
        "from nltk.corpus import stopwords\n",
        "import re\n",
        "lemmatizer = WordNetLemmatizer()\n",
        "stemmer = PorterStemmer() "
      ],
      "metadata": {
        "colab": {
          "base_uri": "https://localhost:8080/"
        },
        "id": "GQmQI16c7vE7",
        "outputId": "7f3c976d-05ec-40fe-eeb2-967a3128c084"
      },
      "execution_count": 15,
      "outputs": [
        {
          "output_type": "stream",
          "name": "stderr",
          "text": [
            "[nltk_data] Downloading package wordnet to /root/nltk_data...\n",
            "[nltk_data]   Package wordnet is already up-to-date!\n",
            "[nltk_data] Downloading package omw-1.4 to /root/nltk_data...\n",
            "[nltk_data]   Package omw-1.4 is already up-to-date!\n"
          ]
        }
      ]
    },
    {
      "cell_type": "code",
      "source": [
        " def preprocess(sentence):\n",
        "    sentence=str(sentence)\n",
        "    sentence = sentence.lower()\n",
        "    sentence=sentence.replace('{html}',\"\") \n",
        "    cleanr = re.compile('<.*?>')\n",
        "    cleantext = re.sub(cleanr, '', sentence)\n",
        "    rem_url=re.sub(r'http\\S+', '',cleantext)\n",
        "    rem_num = re.sub('[0-9]+', '', rem_url)\n",
        "    tokenizer = RegexpTokenizer(r'\\w+')\n",
        "    tokens = tokenizer.tokenize(rem_num)  \n",
        "    filtered_words = [w for w in tokens if len(w) > 2 if not w in stopwords.words('portuguese')]\n",
        "    stem_words=[stemmer.stem(w) for w in filtered_words]\n",
        "    lemma_words=[lemmatizer.lemmatize(w) for w in stem_words]\n",
        "    return \" \".join(filtered_words)"
      ],
      "metadata": {
        "id": "6ewwGPWT7tSN"
      },
      "execution_count": 16,
      "outputs": []
    },
    {
      "cell_type": "code",
      "source": [
        "simi['clean']=simi['clean'].map(lambda s:preprocess(s)) "
      ],
      "metadata": {
        "id": "TUhLvI_Y71Nr"
      },
      "execution_count": 17,
      "outputs": []
    },
    {
      "cell_type": "code",
      "source": [
        "simi.head()"
      ],
      "metadata": {
        "colab": {
          "base_uri": "https://localhost:8080/",
          "height": 206
        },
        "id": "xhlZVvzs8Z_7",
        "outputId": "1c2d07bf-c8d2-4574-8c21-f51e9984f4bf"
      },
      "execution_count": 18,
      "outputs": [
        {
          "output_type": "execute_result",
          "data": {
            "text/plain": [
              "                                      ITE_ITEM_TITLE  \\\n",
              "0  Tênis Ascension Posh Masculino - Preto E Verme...   \n",
              "1  Tenis Para Caminhada Super Levinho Spider Corr...   \n",
              "2  Tênis Feminino Le Parc Hocks Black/ice Origina...   \n",
              "3  Tênis Olympikus Esportivo Academia Nova Tendên...   \n",
              "4  Inteligente Led Bicicleta Tauda Luz Usb Bicicl...   \n",
              "\n",
              "                                               clean  \n",
              "0      tenis ascension posh masculino preto vermelho  \n",
              "1       tenis caminhada super levinho spider corrida  \n",
              "2  tenis feminino parc hocks blackice original envio  \n",
              "3  tenis olympikus esportivo academia nova tenden...  \n",
              "4  inteligente led bicicleta tauda luz usb bicicl...  "
            ],
            "text/html": [
              "\n",
              "  <div id=\"df-45ac619e-0b11-45f7-8b0f-06045e56b9e2\">\n",
              "    <div class=\"colab-df-container\">\n",
              "      <div>\n",
              "<style scoped>\n",
              "    .dataframe tbody tr th:only-of-type {\n",
              "        vertical-align: middle;\n",
              "    }\n",
              "\n",
              "    .dataframe tbody tr th {\n",
              "        vertical-align: top;\n",
              "    }\n",
              "\n",
              "    .dataframe thead th {\n",
              "        text-align: right;\n",
              "    }\n",
              "</style>\n",
              "<table border=\"1\" class=\"dataframe\">\n",
              "  <thead>\n",
              "    <tr style=\"text-align: right;\">\n",
              "      <th></th>\n",
              "      <th>ITE_ITEM_TITLE</th>\n",
              "      <th>clean</th>\n",
              "    </tr>\n",
              "  </thead>\n",
              "  <tbody>\n",
              "    <tr>\n",
              "      <th>0</th>\n",
              "      <td>Tênis Ascension Posh Masculino - Preto E Verme...</td>\n",
              "      <td>tenis ascension posh masculino preto vermelho</td>\n",
              "    </tr>\n",
              "    <tr>\n",
              "      <th>1</th>\n",
              "      <td>Tenis Para Caminhada Super Levinho Spider Corr...</td>\n",
              "      <td>tenis caminhada super levinho spider corrida</td>\n",
              "    </tr>\n",
              "    <tr>\n",
              "      <th>2</th>\n",
              "      <td>Tênis Feminino Le Parc Hocks Black/ice Origina...</td>\n",
              "      <td>tenis feminino parc hocks blackice original envio</td>\n",
              "    </tr>\n",
              "    <tr>\n",
              "      <th>3</th>\n",
              "      <td>Tênis Olympikus Esportivo Academia Nova Tendên...</td>\n",
              "      <td>tenis olympikus esportivo academia nova tenden...</td>\n",
              "    </tr>\n",
              "    <tr>\n",
              "      <th>4</th>\n",
              "      <td>Inteligente Led Bicicleta Tauda Luz Usb Bicicl...</td>\n",
              "      <td>inteligente led bicicleta tauda luz usb bicicl...</td>\n",
              "    </tr>\n",
              "  </tbody>\n",
              "</table>\n",
              "</div>\n",
              "      <button class=\"colab-df-convert\" onclick=\"convertToInteractive('df-45ac619e-0b11-45f7-8b0f-06045e56b9e2')\"\n",
              "              title=\"Convert this dataframe to an interactive table.\"\n",
              "              style=\"display:none;\">\n",
              "        \n",
              "  <svg xmlns=\"http://www.w3.org/2000/svg\" height=\"24px\"viewBox=\"0 0 24 24\"\n",
              "       width=\"24px\">\n",
              "    <path d=\"M0 0h24v24H0V0z\" fill=\"none\"/>\n",
              "    <path d=\"M18.56 5.44l.94 2.06.94-2.06 2.06-.94-2.06-.94-.94-2.06-.94 2.06-2.06.94zm-11 1L8.5 8.5l.94-2.06 2.06-.94-2.06-.94L8.5 2.5l-.94 2.06-2.06.94zm10 10l.94 2.06.94-2.06 2.06-.94-2.06-.94-.94-2.06-.94 2.06-2.06.94z\"/><path d=\"M17.41 7.96l-1.37-1.37c-.4-.4-.92-.59-1.43-.59-.52 0-1.04.2-1.43.59L10.3 9.45l-7.72 7.72c-.78.78-.78 2.05 0 2.83L4 21.41c.39.39.9.59 1.41.59.51 0 1.02-.2 1.41-.59l7.78-7.78 2.81-2.81c.8-.78.8-2.07 0-2.86zM5.41 20L4 18.59l7.72-7.72 1.47 1.35L5.41 20z\"/>\n",
              "  </svg>\n",
              "      </button>\n",
              "      \n",
              "  <style>\n",
              "    .colab-df-container {\n",
              "      display:flex;\n",
              "      flex-wrap:wrap;\n",
              "      gap: 12px;\n",
              "    }\n",
              "\n",
              "    .colab-df-convert {\n",
              "      background-color: #E8F0FE;\n",
              "      border: none;\n",
              "      border-radius: 50%;\n",
              "      cursor: pointer;\n",
              "      display: none;\n",
              "      fill: #1967D2;\n",
              "      height: 32px;\n",
              "      padding: 0 0 0 0;\n",
              "      width: 32px;\n",
              "    }\n",
              "\n",
              "    .colab-df-convert:hover {\n",
              "      background-color: #E2EBFA;\n",
              "      box-shadow: 0px 1px 2px rgba(60, 64, 67, 0.3), 0px 1px 3px 1px rgba(60, 64, 67, 0.15);\n",
              "      fill: #174EA6;\n",
              "    }\n",
              "\n",
              "    [theme=dark] .colab-df-convert {\n",
              "      background-color: #3B4455;\n",
              "      fill: #D2E3FC;\n",
              "    }\n",
              "\n",
              "    [theme=dark] .colab-df-convert:hover {\n",
              "      background-color: #434B5C;\n",
              "      box-shadow: 0px 1px 3px 1px rgba(0, 0, 0, 0.15);\n",
              "      filter: drop-shadow(0px 1px 2px rgba(0, 0, 0, 0.3));\n",
              "      fill: #FFFFFF;\n",
              "    }\n",
              "  </style>\n",
              "\n",
              "      <script>\n",
              "        const buttonEl =\n",
              "          document.querySelector('#df-45ac619e-0b11-45f7-8b0f-06045e56b9e2 button.colab-df-convert');\n",
              "        buttonEl.style.display =\n",
              "          google.colab.kernel.accessAllowed ? 'block' : 'none';\n",
              "\n",
              "        async function convertToInteractive(key) {\n",
              "          const element = document.querySelector('#df-45ac619e-0b11-45f7-8b0f-06045e56b9e2');\n",
              "          const dataTable =\n",
              "            await google.colab.kernel.invokeFunction('convertToInteractive',\n",
              "                                                     [key], {});\n",
              "          if (!dataTable) return;\n",
              "\n",
              "          const docLinkHtml = 'Like what you see? Visit the ' +\n",
              "            '<a target=\"_blank\" href=https://colab.research.google.com/notebooks/data_table.ipynb>data table notebook</a>'\n",
              "            + ' to learn more about interactive tables.';\n",
              "          element.innerHTML = '';\n",
              "          dataTable['output_type'] = 'display_data';\n",
              "          await google.colab.output.renderOutput(dataTable, element);\n",
              "          const docLink = document.createElement('div');\n",
              "          docLink.innerHTML = docLinkHtml;\n",
              "          element.appendChild(docLink);\n",
              "        }\n",
              "      </script>\n",
              "    </div>\n",
              "  </div>\n",
              "  "
            ]
          },
          "metadata": {},
          "execution_count": 18
        }
      ]
    },
    {
      "cell_type": "code",
      "source": [
        "simi['words'] = [len(x.split()) for x in simi['clean'].tolist()]"
      ],
      "metadata": {
        "id": "m80zUWaQ9-T-"
      },
      "execution_count": 19,
      "outputs": []
    },
    {
      "cell_type": "markdown",
      "source": [
        "##  Distancia de Levenshtein\n",
        "\n"
      ],
      "metadata": {
        "id": "f_YBAp7m-LSZ"
      }
    },
    {
      "cell_type": "code",
      "source": [
        "simi.head(9)"
      ],
      "metadata": {
        "colab": {
          "base_uri": "https://localhost:8080/",
          "height": 331
        },
        "id": "Xq3HUtOOAyVG",
        "outputId": "ca89a5a8-90ae-498f-d9aa-f981b999a8d6"
      },
      "execution_count": 20,
      "outputs": [
        {
          "output_type": "execute_result",
          "data": {
            "text/plain": [
              "                                      ITE_ITEM_TITLE  \\\n",
              "0  Tênis Ascension Posh Masculino - Preto E Verme...   \n",
              "1  Tenis Para Caminhada Super Levinho Spider Corr...   \n",
              "2  Tênis Feminino Le Parc Hocks Black/ice Origina...   \n",
              "3  Tênis Olympikus Esportivo Academia Nova Tendên...   \n",
              "4  Inteligente Led Bicicleta Tauda Luz Usb Bicicl...   \n",
              "5        Tênis Casual Masculino Zarato 941 Preto 632   \n",
              "6          Tênis Infantil Ortopasso Conforto Jogging   \n",
              "7                 Tv Samsung Qled 8k Q800t Semi Nova   \n",
              "8  Tênis Usthemp Short Temático - Maria Vira-lata 2   \n",
              "\n",
              "                                               clean  words  \n",
              "0      tenis ascension posh masculino preto vermelho      6  \n",
              "1       tenis caminhada super levinho spider corrida      6  \n",
              "2  tenis feminino parc hocks blackice original envio      7  \n",
              "3  tenis olympikus esportivo academia nova tenden...      7  \n",
              "4  inteligente led bicicleta tauda luz usb bicicl...      8  \n",
              "5                tenis casual masculino zarato preto      5  \n",
              "6          tenis infantil ortopasso conforto jogging      5  \n",
              "7                             samsung qled semi nova      4  \n",
              "8        tenis usthemp short tematico maria viralata      6  "
            ],
            "text/html": [
              "\n",
              "  <div id=\"df-bb0d1de4-1931-41a7-bf9e-d2d573bbe35b\">\n",
              "    <div class=\"colab-df-container\">\n",
              "      <div>\n",
              "<style scoped>\n",
              "    .dataframe tbody tr th:only-of-type {\n",
              "        vertical-align: middle;\n",
              "    }\n",
              "\n",
              "    .dataframe tbody tr th {\n",
              "        vertical-align: top;\n",
              "    }\n",
              "\n",
              "    .dataframe thead th {\n",
              "        text-align: right;\n",
              "    }\n",
              "</style>\n",
              "<table border=\"1\" class=\"dataframe\">\n",
              "  <thead>\n",
              "    <tr style=\"text-align: right;\">\n",
              "      <th></th>\n",
              "      <th>ITE_ITEM_TITLE</th>\n",
              "      <th>clean</th>\n",
              "      <th>words</th>\n",
              "    </tr>\n",
              "  </thead>\n",
              "  <tbody>\n",
              "    <tr>\n",
              "      <th>0</th>\n",
              "      <td>Tênis Ascension Posh Masculino - Preto E Verme...</td>\n",
              "      <td>tenis ascension posh masculino preto vermelho</td>\n",
              "      <td>6</td>\n",
              "    </tr>\n",
              "    <tr>\n",
              "      <th>1</th>\n",
              "      <td>Tenis Para Caminhada Super Levinho Spider Corr...</td>\n",
              "      <td>tenis caminhada super levinho spider corrida</td>\n",
              "      <td>6</td>\n",
              "    </tr>\n",
              "    <tr>\n",
              "      <th>2</th>\n",
              "      <td>Tênis Feminino Le Parc Hocks Black/ice Origina...</td>\n",
              "      <td>tenis feminino parc hocks blackice original envio</td>\n",
              "      <td>7</td>\n",
              "    </tr>\n",
              "    <tr>\n",
              "      <th>3</th>\n",
              "      <td>Tênis Olympikus Esportivo Academia Nova Tendên...</td>\n",
              "      <td>tenis olympikus esportivo academia nova tenden...</td>\n",
              "      <td>7</td>\n",
              "    </tr>\n",
              "    <tr>\n",
              "      <th>4</th>\n",
              "      <td>Inteligente Led Bicicleta Tauda Luz Usb Bicicl...</td>\n",
              "      <td>inteligente led bicicleta tauda luz usb bicicl...</td>\n",
              "      <td>8</td>\n",
              "    </tr>\n",
              "    <tr>\n",
              "      <th>5</th>\n",
              "      <td>Tênis Casual Masculino Zarato 941 Preto 632</td>\n",
              "      <td>tenis casual masculino zarato preto</td>\n",
              "      <td>5</td>\n",
              "    </tr>\n",
              "    <tr>\n",
              "      <th>6</th>\n",
              "      <td>Tênis Infantil Ortopasso Conforto Jogging</td>\n",
              "      <td>tenis infantil ortopasso conforto jogging</td>\n",
              "      <td>5</td>\n",
              "    </tr>\n",
              "    <tr>\n",
              "      <th>7</th>\n",
              "      <td>Tv Samsung Qled 8k Q800t Semi Nova</td>\n",
              "      <td>samsung qled semi nova</td>\n",
              "      <td>4</td>\n",
              "    </tr>\n",
              "    <tr>\n",
              "      <th>8</th>\n",
              "      <td>Tênis Usthemp Short Temático - Maria Vira-lata 2</td>\n",
              "      <td>tenis usthemp short tematico maria viralata</td>\n",
              "      <td>6</td>\n",
              "    </tr>\n",
              "  </tbody>\n",
              "</table>\n",
              "</div>\n",
              "      <button class=\"colab-df-convert\" onclick=\"convertToInteractive('df-bb0d1de4-1931-41a7-bf9e-d2d573bbe35b')\"\n",
              "              title=\"Convert this dataframe to an interactive table.\"\n",
              "              style=\"display:none;\">\n",
              "        \n",
              "  <svg xmlns=\"http://www.w3.org/2000/svg\" height=\"24px\"viewBox=\"0 0 24 24\"\n",
              "       width=\"24px\">\n",
              "    <path d=\"M0 0h24v24H0V0z\" fill=\"none\"/>\n",
              "    <path d=\"M18.56 5.44l.94 2.06.94-2.06 2.06-.94-2.06-.94-.94-2.06-.94 2.06-2.06.94zm-11 1L8.5 8.5l.94-2.06 2.06-.94-2.06-.94L8.5 2.5l-.94 2.06-2.06.94zm10 10l.94 2.06.94-2.06 2.06-.94-2.06-.94-.94-2.06-.94 2.06-2.06.94z\"/><path d=\"M17.41 7.96l-1.37-1.37c-.4-.4-.92-.59-1.43-.59-.52 0-1.04.2-1.43.59L10.3 9.45l-7.72 7.72c-.78.78-.78 2.05 0 2.83L4 21.41c.39.39.9.59 1.41.59.51 0 1.02-.2 1.41-.59l7.78-7.78 2.81-2.81c.8-.78.8-2.07 0-2.86zM5.41 20L4 18.59l7.72-7.72 1.47 1.35L5.41 20z\"/>\n",
              "  </svg>\n",
              "      </button>\n",
              "      \n",
              "  <style>\n",
              "    .colab-df-container {\n",
              "      display:flex;\n",
              "      flex-wrap:wrap;\n",
              "      gap: 12px;\n",
              "    }\n",
              "\n",
              "    .colab-df-convert {\n",
              "      background-color: #E8F0FE;\n",
              "      border: none;\n",
              "      border-radius: 50%;\n",
              "      cursor: pointer;\n",
              "      display: none;\n",
              "      fill: #1967D2;\n",
              "      height: 32px;\n",
              "      padding: 0 0 0 0;\n",
              "      width: 32px;\n",
              "    }\n",
              "\n",
              "    .colab-df-convert:hover {\n",
              "      background-color: #E2EBFA;\n",
              "      box-shadow: 0px 1px 2px rgba(60, 64, 67, 0.3), 0px 1px 3px 1px rgba(60, 64, 67, 0.15);\n",
              "      fill: #174EA6;\n",
              "    }\n",
              "\n",
              "    [theme=dark] .colab-df-convert {\n",
              "      background-color: #3B4455;\n",
              "      fill: #D2E3FC;\n",
              "    }\n",
              "\n",
              "    [theme=dark] .colab-df-convert:hover {\n",
              "      background-color: #434B5C;\n",
              "      box-shadow: 0px 1px 3px 1px rgba(0, 0, 0, 0.15);\n",
              "      filter: drop-shadow(0px 1px 2px rgba(0, 0, 0, 0.3));\n",
              "      fill: #FFFFFF;\n",
              "    }\n",
              "  </style>\n",
              "\n",
              "      <script>\n",
              "        const buttonEl =\n",
              "          document.querySelector('#df-bb0d1de4-1931-41a7-bf9e-d2d573bbe35b button.colab-df-convert');\n",
              "        buttonEl.style.display =\n",
              "          google.colab.kernel.accessAllowed ? 'block' : 'none';\n",
              "\n",
              "        async function convertToInteractive(key) {\n",
              "          const element = document.querySelector('#df-bb0d1de4-1931-41a7-bf9e-d2d573bbe35b');\n",
              "          const dataTable =\n",
              "            await google.colab.kernel.invokeFunction('convertToInteractive',\n",
              "                                                     [key], {});\n",
              "          if (!dataTable) return;\n",
              "\n",
              "          const docLinkHtml = 'Like what you see? Visit the ' +\n",
              "            '<a target=\"_blank\" href=https://colab.research.google.com/notebooks/data_table.ipynb>data table notebook</a>'\n",
              "            + ' to learn more about interactive tables.';\n",
              "          element.innerHTML = '';\n",
              "          dataTable['output_type'] = 'display_data';\n",
              "          await google.colab.output.renderOutput(dataTable, element);\n",
              "          const docLink = document.createElement('div');\n",
              "          docLink.innerHTML = docLinkHtml;\n",
              "          element.appendChild(docLink);\n",
              "        }\n",
              "      </script>\n",
              "    </div>\n",
              "  </div>\n",
              "  "
            ]
          },
          "metadata": {},
          "execution_count": 20
        }
      ]
    },
    {
      "cell_type": "code",
      "source": [
        "simi.columns"
      ],
      "metadata": {
        "colab": {
          "base_uri": "https://localhost:8080/"
        },
        "id": "5R5HH_qlAd8Y",
        "outputId": "9375b092-4004-489c-d9e8-3ddb6018fdb4"
      },
      "execution_count": 21,
      "outputs": [
        {
          "output_type": "execute_result",
          "data": {
            "text/plain": [
              "Index(['ITE_ITEM_TITLE', 'clean', 'words'], dtype='object')"
            ]
          },
          "metadata": {},
          "execution_count": 21
        }
      ]
    },
    {
      "cell_type": "code",
      "source": [
        "nombres_unicos = simi['clean'].unique().tolist()\n",
        "sorted(nombres_unicos)[:3]"
      ],
      "metadata": {
        "colab": {
          "base_uri": "https://localhost:8080/"
        },
        "id": "WeUGr1pL_weC",
        "outputId": "fb3560bb-6e90-446e-a3df-4a9f9709fe17"
      },
      "execution_count": 22,
      "outputs": [
        {
          "output_type": "execute_result",
          "data": {
            "text/plain": [
              "['', 'abotinado infantil novope napa preto', 'acabamento lateral']"
            ]
          },
          "metadata": {},
          "execution_count": 22
        }
      ]
    },
    {
      "cell_type": "code",
      "source": [
        "sorted(nombres_unicos).pop(0)"
      ],
      "metadata": {
        "colab": {
          "base_uri": "https://localhost:8080/",
          "height": 36
        },
        "id": "3oAGsOweCdEg",
        "outputId": "f641f4ce-9127-409f-d196-cbbf4ed9aa84"
      },
      "execution_count": 23,
      "outputs": [
        {
          "output_type": "execute_result",
          "data": {
            "text/plain": [
              "''"
            ],
            "application/vnd.google.colaboratory.intrinsic+json": {
              "type": "string"
            }
          },
          "metadata": {},
          "execution_count": 23
        }
      ]
    },
    {
      "cell_type": "code",
      "source": [
        "nombres_unicos[:5]"
      ],
      "metadata": {
        "colab": {
          "base_uri": "https://localhost:8080/"
        },
        "id": "WTI0ixcYC2ly",
        "outputId": "639f4fb9-ca23-476b-fb40-902750703585"
      },
      "execution_count": 24,
      "outputs": [
        {
          "output_type": "execute_result",
          "data": {
            "text/plain": [
              "['tenis ascension posh masculino preto vermelho',\n",
              " 'tenis caminhada super levinho spider corrida',\n",
              " 'tenis feminino parc hocks blackice original envio',\n",
              " 'tenis olympikus esportivo academia nova tendencia triunfo',\n",
              " 'inteligente led bicicleta tauda luz usb bicicleta carregave']"
            ]
          },
          "metadata": {},
          "execution_count": 24
        }
      ]
    },
    {
      "cell_type": "code",
      "source": [
        "from fuzzywuzzy import fuzz\n",
        "from fuzzywuzzy import process\n",
        "import time\n",
        "t1 = time.time()\n",
        "print(process.extractOne('tenis feminino parc hocks blackice original envio', nombres_unicos)) \n",
        "t = time.time()-t1\n",
        "print(\"SELFTIMED:\", t)\n",
        "print(\"Estimated hours to complete for full dataset:\", (t*len(nombres_unicos))/60/60)"
      ],
      "metadata": {
        "colab": {
          "base_uri": "https://localhost:8080/"
        },
        "id": "5-IXBMqFIVOs",
        "outputId": "9bb16983-b8f6-40ea-d363-a10e419e64b7"
      },
      "execution_count": 25,
      "outputs": [
        {
          "output_type": "stream",
          "name": "stdout",
          "text": [
            "('tenis feminino parc hocks blackice original envio', 100)\n",
            "SELFTIMED: 2.2551727294921875\n",
            "Estimated hours to complete for full dataset: 18.19924392700195\n"
          ]
        }
      ]
    },
    {
      "cell_type": "markdown",
      "source": [
        "Dado que se precisaría mucho tiempo para completar la tarea, una solución podría ser correr el código por batches o implementar algún otro algoritmo que también sea útil y resuelva nuestro problema. \n",
        "\n",
        "Se tomaron los 1000 articulos de la lista y se corrió el algoritmo para ofrecer un resultado parcial de los mismos."
      ],
      "metadata": {
        "id": "NJ9aCTUINdr2"
      }
    },
    {
      "cell_type": "code",
      "source": [
        "nombres_1000=nombres_unicos[:1000]"
      ],
      "metadata": {
        "id": "EXhG-D7eJQjy"
      },
      "execution_count": 26,
      "outputs": []
    },
    {
      "cell_type": "code",
      "source": [
        "# tuple\n",
        "score_sort = [(x,) + i\n",
        "             for x in nombres_1000 \n",
        "             for i in process.extract(x, nombres_1000,  scorer=fuzz.token_sort_ratio)]\n",
        "#dataframe from the tuples\n",
        "similarity_sort = pd.DataFrame(score_sort, columns=['name_sort','match_sort','score_sort'])\n",
        "similarity_sort.head()"
      ],
      "metadata": {
        "colab": {
          "base_uri": "https://localhost:8080/",
          "height": 224
        },
        "id": "imhv5F7DDsQP",
        "outputId": "68677545-b0a4-4683-9263-1d469a72b0f5"
      },
      "execution_count": 27,
      "outputs": [
        {
          "output_type": "stream",
          "name": "stderr",
          "text": [
            "WARNING:root:Applied processor reduces input query to empty string, all comparisons will have score 0. [Query: '']\n"
          ]
        },
        {
          "output_type": "execute_result",
          "data": {
            "text/plain": [
              "                                       name_sort  \\\n",
              "0  tenis ascension posh masculino preto vermelho   \n",
              "1  tenis ascension posh masculino preto vermelho   \n",
              "2  tenis ascension posh masculino preto vermelho   \n",
              "3  tenis ascension posh masculino preto vermelho   \n",
              "4  tenis ascension posh masculino preto vermelho   \n",
              "\n",
              "                                          match_sort  score_sort  \n",
              "0      tenis ascension posh masculino preto vermelho         100  \n",
              "1  tenis masculino coca cola xfly happy preto ver...          71  \n",
              "2                tenis casual masculino zarato preto          68  \n",
              "3         tenis rip curl venice masculino pretopreto          67  \n",
              "4  tenis olympikus proof masculino preto vermelho...          66  "
            ],
            "text/html": [
              "\n",
              "  <div id=\"df-0bf8f0ff-3a76-48d9-9417-ef03b579adba\">\n",
              "    <div class=\"colab-df-container\">\n",
              "      <div>\n",
              "<style scoped>\n",
              "    .dataframe tbody tr th:only-of-type {\n",
              "        vertical-align: middle;\n",
              "    }\n",
              "\n",
              "    .dataframe tbody tr th {\n",
              "        vertical-align: top;\n",
              "    }\n",
              "\n",
              "    .dataframe thead th {\n",
              "        text-align: right;\n",
              "    }\n",
              "</style>\n",
              "<table border=\"1\" class=\"dataframe\">\n",
              "  <thead>\n",
              "    <tr style=\"text-align: right;\">\n",
              "      <th></th>\n",
              "      <th>name_sort</th>\n",
              "      <th>match_sort</th>\n",
              "      <th>score_sort</th>\n",
              "    </tr>\n",
              "  </thead>\n",
              "  <tbody>\n",
              "    <tr>\n",
              "      <th>0</th>\n",
              "      <td>tenis ascension posh masculino preto vermelho</td>\n",
              "      <td>tenis ascension posh masculino preto vermelho</td>\n",
              "      <td>100</td>\n",
              "    </tr>\n",
              "    <tr>\n",
              "      <th>1</th>\n",
              "      <td>tenis ascension posh masculino preto vermelho</td>\n",
              "      <td>tenis masculino coca cola xfly happy preto ver...</td>\n",
              "      <td>71</td>\n",
              "    </tr>\n",
              "    <tr>\n",
              "      <th>2</th>\n",
              "      <td>tenis ascension posh masculino preto vermelho</td>\n",
              "      <td>tenis casual masculino zarato preto</td>\n",
              "      <td>68</td>\n",
              "    </tr>\n",
              "    <tr>\n",
              "      <th>3</th>\n",
              "      <td>tenis ascension posh masculino preto vermelho</td>\n",
              "      <td>tenis rip curl venice masculino pretopreto</td>\n",
              "      <td>67</td>\n",
              "    </tr>\n",
              "    <tr>\n",
              "      <th>4</th>\n",
              "      <td>tenis ascension posh masculino preto vermelho</td>\n",
              "      <td>tenis olympikus proof masculino preto vermelho...</td>\n",
              "      <td>66</td>\n",
              "    </tr>\n",
              "  </tbody>\n",
              "</table>\n",
              "</div>\n",
              "      <button class=\"colab-df-convert\" onclick=\"convertToInteractive('df-0bf8f0ff-3a76-48d9-9417-ef03b579adba')\"\n",
              "              title=\"Convert this dataframe to an interactive table.\"\n",
              "              style=\"display:none;\">\n",
              "        \n",
              "  <svg xmlns=\"http://www.w3.org/2000/svg\" height=\"24px\"viewBox=\"0 0 24 24\"\n",
              "       width=\"24px\">\n",
              "    <path d=\"M0 0h24v24H0V0z\" fill=\"none\"/>\n",
              "    <path d=\"M18.56 5.44l.94 2.06.94-2.06 2.06-.94-2.06-.94-.94-2.06-.94 2.06-2.06.94zm-11 1L8.5 8.5l.94-2.06 2.06-.94-2.06-.94L8.5 2.5l-.94 2.06-2.06.94zm10 10l.94 2.06.94-2.06 2.06-.94-2.06-.94-.94-2.06-.94 2.06-2.06.94z\"/><path d=\"M17.41 7.96l-1.37-1.37c-.4-.4-.92-.59-1.43-.59-.52 0-1.04.2-1.43.59L10.3 9.45l-7.72 7.72c-.78.78-.78 2.05 0 2.83L4 21.41c.39.39.9.59 1.41.59.51 0 1.02-.2 1.41-.59l7.78-7.78 2.81-2.81c.8-.78.8-2.07 0-2.86zM5.41 20L4 18.59l7.72-7.72 1.47 1.35L5.41 20z\"/>\n",
              "  </svg>\n",
              "      </button>\n",
              "      \n",
              "  <style>\n",
              "    .colab-df-container {\n",
              "      display:flex;\n",
              "      flex-wrap:wrap;\n",
              "      gap: 12px;\n",
              "    }\n",
              "\n",
              "    .colab-df-convert {\n",
              "      background-color: #E8F0FE;\n",
              "      border: none;\n",
              "      border-radius: 50%;\n",
              "      cursor: pointer;\n",
              "      display: none;\n",
              "      fill: #1967D2;\n",
              "      height: 32px;\n",
              "      padding: 0 0 0 0;\n",
              "      width: 32px;\n",
              "    }\n",
              "\n",
              "    .colab-df-convert:hover {\n",
              "      background-color: #E2EBFA;\n",
              "      box-shadow: 0px 1px 2px rgba(60, 64, 67, 0.3), 0px 1px 3px 1px rgba(60, 64, 67, 0.15);\n",
              "      fill: #174EA6;\n",
              "    }\n",
              "\n",
              "    [theme=dark] .colab-df-convert {\n",
              "      background-color: #3B4455;\n",
              "      fill: #D2E3FC;\n",
              "    }\n",
              "\n",
              "    [theme=dark] .colab-df-convert:hover {\n",
              "      background-color: #434B5C;\n",
              "      box-shadow: 0px 1px 3px 1px rgba(0, 0, 0, 0.15);\n",
              "      filter: drop-shadow(0px 1px 2px rgba(0, 0, 0, 0.3));\n",
              "      fill: #FFFFFF;\n",
              "    }\n",
              "  </style>\n",
              "\n",
              "      <script>\n",
              "        const buttonEl =\n",
              "          document.querySelector('#df-0bf8f0ff-3a76-48d9-9417-ef03b579adba button.colab-df-convert');\n",
              "        buttonEl.style.display =\n",
              "          google.colab.kernel.accessAllowed ? 'block' : 'none';\n",
              "\n",
              "        async function convertToInteractive(key) {\n",
              "          const element = document.querySelector('#df-0bf8f0ff-3a76-48d9-9417-ef03b579adba');\n",
              "          const dataTable =\n",
              "            await google.colab.kernel.invokeFunction('convertToInteractive',\n",
              "                                                     [key], {});\n",
              "          if (!dataTable) return;\n",
              "\n",
              "          const docLinkHtml = 'Like what you see? Visit the ' +\n",
              "            '<a target=\"_blank\" href=https://colab.research.google.com/notebooks/data_table.ipynb>data table notebook</a>'\n",
              "            + ' to learn more about interactive tables.';\n",
              "          element.innerHTML = '';\n",
              "          dataTable['output_type'] = 'display_data';\n",
              "          await google.colab.output.renderOutput(dataTable, element);\n",
              "          const docLink = document.createElement('div');\n",
              "          docLink.innerHTML = docLinkHtml;\n",
              "          element.appendChild(docLink);\n",
              "        }\n",
              "      </script>\n",
              "    </div>\n",
              "  </div>\n",
              "  "
            ]
          },
          "metadata": {},
          "execution_count": 27
        }
      ]
    },
    {
      "cell_type": "markdown",
      "source": [
        "La distancia de Levenshtein permite medir cuan alejadas estan dos secuencias de palabras. Mide la cantidad mínima de ediciones necesarias en una palabra para que sea igual a otra secuencia. Como se comparan todas las filas, una a una, cuando se cuentan con grandes cantidades de datos ésto puede ser un inconveniete. Por restricciones de tiempo se va a avanzar con la distancia del coseno para completar el ejercicio."
      ],
      "metadata": {
        "id": "DoLAKv6vODl0"
      }
    },
    {
      "cell_type": "markdown",
      "source": [
        "Fuentes: \n",
        "\n",
        "* https://towardsdatascience.com/string-matching-with-fuzzywuzzy-e982c61f8a84\n",
        "\n",
        "* https://towardsdatascience.com/fuzzy-matching-at-scale-84f2bfd0c536\n",
        "\n",
        "* https://maxbachmann.github.io/RapidFuzz/process.html"
      ],
      "metadata": {
        "id": "NKiXAJpNNpRm"
      }
    },
    {
      "cell_type": "markdown",
      "source": [
        "## Distancia del Coseno"
      ],
      "metadata": {
        "id": "W0zgosYWOAzW"
      }
    },
    {
      "cell_type": "code",
      "source": [
        "import re\n",
        "# se limpian los strings y se generan los n-grams\n",
        "def ngrams(string, n=3):\n",
        "    string = re.sub(r'[,-./]|\\sBD',r'', string)\n",
        "    ngrams = zip(*[string[i:] for i in range(n)])\n",
        "    return [''.join(ngram) for ngram in ngrams]"
      ],
      "metadata": {
        "id": "2FkNWSmEKMoZ"
      },
      "execution_count": 28,
      "outputs": []
    },
    {
      "cell_type": "code",
      "source": [
        "simi['clean_grams']=simi['clean'].map(lambda s:ngrams(s))"
      ],
      "metadata": {
        "id": "9Wj7EPelLZGr"
      },
      "execution_count": 29,
      "outputs": []
    },
    {
      "cell_type": "code",
      "source": [
        "# matriz TF-IDF\n",
        "from sklearn.feature_extraction.text import TfidfVectorizer\n",
        "vectorizer = TfidfVectorizer(min_df=1, analyzer=ngrams)\n",
        "tf_idf_matrix = vectorizer.fit_transform(nombres_unicos)"
      ],
      "metadata": {
        "id": "hloaeNc3KSD5"
      },
      "execution_count": 30,
      "outputs": []
    },
    {
      "cell_type": "markdown",
      "source": [
        "La distancia del coseno calcula la similitud entre dos vectores de valores de TF-IDF \n",
        " \n",
        "Dos desventajas: \n",
        " \n",
        " 1- La versión de sklearn realiza una gran cantidad de verificación de tipos y manejo de errores.\n",
        " 2- La versión de sklearn calcula y almacena todas las similitudes de una sola vez, mientras que a nosotros solo nos interesan las más similares.\n",
        "Por lo tanto, utiliza mucha más memoria de la necesaria.\n",
        "\n",
        "\n",
        " Solucion: almacenar solo las N coincidencias más altas en cada fila y solo las similitudes por encima de un umbral (opcional)"
      ],
      "metadata": {
        "id": "Ioz8of1ORLKO"
      }
    },
    {
      "cell_type": "code",
      "source": [
        "# distancia del coserno\n",
        "\n",
        "import numpy as np\n",
        "from scipy.sparse import csr_matrix\n",
        "import sparse_dot_topn.sparse_dot_topn as ct\n",
        "\n",
        "def awesome_cossim_top(A, B, ntop, lower_bound=0):\n",
        "    # force A and B as a CSR matrix.\n",
        "    # If they have already been CSR, there is no overhead\n",
        "    A = A.tocsr()\n",
        "    B = B.tocsr()\n",
        "    M, _ = A.shape\n",
        "    _, N = B.shape\n",
        " \n",
        "    idx_dtype = np.int32\n",
        " \n",
        "    nnz_max = M*ntop\n",
        " \n",
        "    indptr = np.zeros(M+1, dtype=idx_dtype)\n",
        "    indices = np.zeros(nnz_max, dtype=idx_dtype)\n",
        "    data = np.zeros(nnz_max, dtype=A.dtype)\n",
        "\n",
        "    ct.sparse_dot_topn(\n",
        "        M, N, np.asarray(A.indptr, dtype=idx_dtype),\n",
        "        np.asarray(A.indices, dtype=idx_dtype),\n",
        "        A.data,\n",
        "        np.asarray(B.indptr, dtype=idx_dtype),\n",
        "        np.asarray(B.indices, dtype=idx_dtype),\n",
        "        B.data,\n",
        "        ntop,\n",
        "        lower_bound,\n",
        "        indptr, indices, data)\n",
        "\n",
        "    return csr_matrix((data,indices,indptr),shape=(M,N))"
      ],
      "metadata": {
        "id": "9syqzeKO-3kI"
      },
      "execution_count": 31,
      "outputs": []
    },
    {
      "cell_type": "code",
      "source": [
        "# top 10 \n",
        "import time\n",
        "t1 = time.time()\n",
        "matches = awesome_cossim_top(tf_idf_matrix, tf_idf_matrix.transpose(), 10, 0.8)\n",
        "t = time.time()-t1\n",
        "print(\"SELFTIMED:\", t)"
      ],
      "metadata": {
        "colab": {
          "base_uri": "https://localhost:8080/"
        },
        "id": "xoU7yD4GMFFA",
        "outputId": "730796c1-0d4f-41cd-a761-2d86952a2e08"
      },
      "execution_count": 32,
      "outputs": [
        {
          "output_type": "stream",
          "name": "stdout",
          "text": [
            "SELFTIMED: 17.64751648902893\n"
          ]
        }
      ]
    },
    {
      "cell_type": "code",
      "source": [
        "# The following code unpacks the resulting sparse matrix\n",
        "def get_matches_df(sparse_matrix, name_vector, top=100):\n",
        "    non_zeros = sparse_matrix.nonzero()\n",
        "    \n",
        "    sparserows = non_zeros[0]\n",
        "    sparsecols = non_zeros[1]\n",
        "    \n",
        "    if top:\n",
        "        nr_matches = top\n",
        "    else:\n",
        "        nr_matches = sparsecols.size\n",
        "    \n",
        "    left_side = np.empty([nr_matches], dtype=object)\n",
        "    right_side = np.empty([nr_matches], dtype=object)\n",
        "    similairity = np.zeros(nr_matches)\n",
        "    \n",
        "    for index in range(0, nr_matches):\n",
        "        left_side[index] = name_vector[sparserows[index]]\n",
        "        right_side[index] = name_vector[sparsecols[index]]\n",
        "        similairity[index] = sparse_matrix.data[index]\n",
        "    \n",
        "    return pd.DataFrame({'ITE_ITEM_TITLE': left_side,\n",
        "                          'ITE_ITEM_TITLE ': right_side,\n",
        "                           'score Similitud (0,1)': similairity})"
      ],
      "metadata": {
        "id": "5Nuf7gS4Kz05"
      },
      "execution_count": 41,
      "outputs": []
    },
    {
      "cell_type": "code",
      "source": [
        "# resultados\n",
        "matches_df = get_matches_df(matches, nombres_unicos, top=1000)\n",
        "matches_df = matches_df[matches_df['score Similitud (0,1)'] < 0.99999] # Remove all exact matches\n",
        "matches_df.sample(5)"
      ],
      "metadata": {
        "colab": {
          "base_uri": "https://localhost:8080/",
          "height": 206
        },
        "id": "cgHngC_rK6mA",
        "outputId": "5daa9dc0-010b-491e-99c3-43870b549187"
      },
      "execution_count": 42,
      "outputs": [
        {
          "output_type": "execute_result",
          "data": {
            "text/plain": [
              "                                        ITE_ITEM_TITLE  \\\n",
              "152           tenis feminino casual flatform beira rio   \n",
              "325           chuteira molekinho preta futsal infantil   \n",
              "954  tenis mad rats top old school preto cano alto ...   \n",
              "915  tenis infantil bibi evolution masculino azul n...   \n",
              "665      tenis usthemp long pirlo welsh corgi pembroke   \n",
              "\n",
              "                                      ITE_ITEM_TITLE   score Similitud (0,1)  \n",
              "152                 tenis feminino flatform beira rio               0.910546  \n",
              "325          chuteira infantil molekinho futsal preto               0.878004  \n",
              "954   tenis skate top old school mad rats preto crepe               0.802682  \n",
              "915     tenis infantil bibi evolution masculino preto               0.812319  \n",
              "665  sapato usthemp legend pirlo welsh corgi pembroke               0.852804  "
            ],
            "text/html": [
              "\n",
              "  <div id=\"df-73ad0c6b-1782-4981-a580-acf2e79f389d\">\n",
              "    <div class=\"colab-df-container\">\n",
              "      <div>\n",
              "<style scoped>\n",
              "    .dataframe tbody tr th:only-of-type {\n",
              "        vertical-align: middle;\n",
              "    }\n",
              "\n",
              "    .dataframe tbody tr th {\n",
              "        vertical-align: top;\n",
              "    }\n",
              "\n",
              "    .dataframe thead th {\n",
              "        text-align: right;\n",
              "    }\n",
              "</style>\n",
              "<table border=\"1\" class=\"dataframe\">\n",
              "  <thead>\n",
              "    <tr style=\"text-align: right;\">\n",
              "      <th></th>\n",
              "      <th>ITE_ITEM_TITLE</th>\n",
              "      <th>ITE_ITEM_TITLE</th>\n",
              "      <th>score Similitud (0,1)</th>\n",
              "    </tr>\n",
              "  </thead>\n",
              "  <tbody>\n",
              "    <tr>\n",
              "      <th>152</th>\n",
              "      <td>tenis feminino casual flatform beira rio</td>\n",
              "      <td>tenis feminino flatform beira rio</td>\n",
              "      <td>0.910546</td>\n",
              "    </tr>\n",
              "    <tr>\n",
              "      <th>325</th>\n",
              "      <td>chuteira molekinho preta futsal infantil</td>\n",
              "      <td>chuteira infantil molekinho futsal preto</td>\n",
              "      <td>0.878004</td>\n",
              "    </tr>\n",
              "    <tr>\n",
              "      <th>954</th>\n",
              "      <td>tenis mad rats top old school preto cano alto ...</td>\n",
              "      <td>tenis skate top old school mad rats preto crepe</td>\n",
              "      <td>0.802682</td>\n",
              "    </tr>\n",
              "    <tr>\n",
              "      <th>915</th>\n",
              "      <td>tenis infantil bibi evolution masculino azul n...</td>\n",
              "      <td>tenis infantil bibi evolution masculino preto</td>\n",
              "      <td>0.812319</td>\n",
              "    </tr>\n",
              "    <tr>\n",
              "      <th>665</th>\n",
              "      <td>tenis usthemp long pirlo welsh corgi pembroke</td>\n",
              "      <td>sapato usthemp legend pirlo welsh corgi pembroke</td>\n",
              "      <td>0.852804</td>\n",
              "    </tr>\n",
              "  </tbody>\n",
              "</table>\n",
              "</div>\n",
              "      <button class=\"colab-df-convert\" onclick=\"convertToInteractive('df-73ad0c6b-1782-4981-a580-acf2e79f389d')\"\n",
              "              title=\"Convert this dataframe to an interactive table.\"\n",
              "              style=\"display:none;\">\n",
              "        \n",
              "  <svg xmlns=\"http://www.w3.org/2000/svg\" height=\"24px\"viewBox=\"0 0 24 24\"\n",
              "       width=\"24px\">\n",
              "    <path d=\"M0 0h24v24H0V0z\" fill=\"none\"/>\n",
              "    <path d=\"M18.56 5.44l.94 2.06.94-2.06 2.06-.94-2.06-.94-.94-2.06-.94 2.06-2.06.94zm-11 1L8.5 8.5l.94-2.06 2.06-.94-2.06-.94L8.5 2.5l-.94 2.06-2.06.94zm10 10l.94 2.06.94-2.06 2.06-.94-2.06-.94-.94-2.06-.94 2.06-2.06.94z\"/><path d=\"M17.41 7.96l-1.37-1.37c-.4-.4-.92-.59-1.43-.59-.52 0-1.04.2-1.43.59L10.3 9.45l-7.72 7.72c-.78.78-.78 2.05 0 2.83L4 21.41c.39.39.9.59 1.41.59.51 0 1.02-.2 1.41-.59l7.78-7.78 2.81-2.81c.8-.78.8-2.07 0-2.86zM5.41 20L4 18.59l7.72-7.72 1.47 1.35L5.41 20z\"/>\n",
              "  </svg>\n",
              "      </button>\n",
              "      \n",
              "  <style>\n",
              "    .colab-df-container {\n",
              "      display:flex;\n",
              "      flex-wrap:wrap;\n",
              "      gap: 12px;\n",
              "    }\n",
              "\n",
              "    .colab-df-convert {\n",
              "      background-color: #E8F0FE;\n",
              "      border: none;\n",
              "      border-radius: 50%;\n",
              "      cursor: pointer;\n",
              "      display: none;\n",
              "      fill: #1967D2;\n",
              "      height: 32px;\n",
              "      padding: 0 0 0 0;\n",
              "      width: 32px;\n",
              "    }\n",
              "\n",
              "    .colab-df-convert:hover {\n",
              "      background-color: #E2EBFA;\n",
              "      box-shadow: 0px 1px 2px rgba(60, 64, 67, 0.3), 0px 1px 3px 1px rgba(60, 64, 67, 0.15);\n",
              "      fill: #174EA6;\n",
              "    }\n",
              "\n",
              "    [theme=dark] .colab-df-convert {\n",
              "      background-color: #3B4455;\n",
              "      fill: #D2E3FC;\n",
              "    }\n",
              "\n",
              "    [theme=dark] .colab-df-convert:hover {\n",
              "      background-color: #434B5C;\n",
              "      box-shadow: 0px 1px 3px 1px rgba(0, 0, 0, 0.15);\n",
              "      filter: drop-shadow(0px 1px 2px rgba(0, 0, 0, 0.3));\n",
              "      fill: #FFFFFF;\n",
              "    }\n",
              "  </style>\n",
              "\n",
              "      <script>\n",
              "        const buttonEl =\n",
              "          document.querySelector('#df-73ad0c6b-1782-4981-a580-acf2e79f389d button.colab-df-convert');\n",
              "        buttonEl.style.display =\n",
              "          google.colab.kernel.accessAllowed ? 'block' : 'none';\n",
              "\n",
              "        async function convertToInteractive(key) {\n",
              "          const element = document.querySelector('#df-73ad0c6b-1782-4981-a580-acf2e79f389d');\n",
              "          const dataTable =\n",
              "            await google.colab.kernel.invokeFunction('convertToInteractive',\n",
              "                                                     [key], {});\n",
              "          if (!dataTable) return;\n",
              "\n",
              "          const docLinkHtml = 'Like what you see? Visit the ' +\n",
              "            '<a target=\"_blank\" href=https://colab.research.google.com/notebooks/data_table.ipynb>data table notebook</a>'\n",
              "            + ' to learn more about interactive tables.';\n",
              "          element.innerHTML = '';\n",
              "          dataTable['output_type'] = 'display_data';\n",
              "          await google.colab.output.renderOutput(dataTable, element);\n",
              "          const docLink = document.createElement('div');\n",
              "          docLink.innerHTML = docLinkHtml;\n",
              "          element.appendChild(docLink);\n",
              "        }\n",
              "      </script>\n",
              "    </div>\n",
              "  </div>\n",
              "  "
            ]
          },
          "metadata": {},
          "execution_count": 42
        }
      ]
    },
    {
      "cell_type": "code",
      "source": [
        "matches_df.sort_values(['score Similitud (0,1)'], ascending=False).head(10)"
      ],
      "metadata": {
        "colab": {
          "base_uri": "https://localhost:8080/",
          "height": 363
        },
        "id": "7PtVGZFCM7sm",
        "outputId": "b8dc8e41-d181-44f5-e980-68d98d73d708"
      },
      "execution_count": 44,
      "outputs": [
        {
          "output_type": "execute_result",
          "data": {
            "text/plain": [
              "                                        ITE_ITEM_TITLE  \\\n",
              "863                  tenis rose confortavel imperdivel   \n",
              "798                           bicicleta oggi big wheel   \n",
              "891                              cannondale fsi carbon   \n",
              "73   tenis nike court vision low premium mtz origin...   \n",
              "940                         tenis mizuno wave invictus   \n",
              "545    tenis actvitta marinho preto masculino original   \n",
              "910  tenis vizzano chunky sneaker confortavel feminino   \n",
              "799                           bicicleta oggi big wheel   \n",
              "756                 tenis rainha drive masculino preto   \n",
              "56               tenis vizzano feminino jogging casual   \n",
              "\n",
              "                                      ITE_ITEM_TITLE   score Similitud (0,1)  \n",
              "863                       rose confortavel imperdivel               0.965449  \n",
              "798                      bicicleta oggi big wheel aro               0.958751  \n",
              "891                        bike cannondale fsi carbon               0.953871  \n",
              "73   tenis nike court vision low premium mtz original               0.953164  \n",
              "940               tenis feminino mizuno wave invictus               0.952792  \n",
              "545         tenis actvitta marinho masculino original               0.952776  \n",
              "910          tenis vizzano chunky sneaker confortavel               0.952575  \n",
              "799                      bicicleta oggi big wheel tam               0.949320  \n",
              "756                      tenis rainha drive masculino               0.948416  \n",
              "56        tenis vizzano feminino jogging casual preto               0.947719  "
            ],
            "text/html": [
              "\n",
              "  <div id=\"df-0aaa5982-1165-4ac8-8b50-27dfb9aa3fd9\">\n",
              "    <div class=\"colab-df-container\">\n",
              "      <div>\n",
              "<style scoped>\n",
              "    .dataframe tbody tr th:only-of-type {\n",
              "        vertical-align: middle;\n",
              "    }\n",
              "\n",
              "    .dataframe tbody tr th {\n",
              "        vertical-align: top;\n",
              "    }\n",
              "\n",
              "    .dataframe thead th {\n",
              "        text-align: right;\n",
              "    }\n",
              "</style>\n",
              "<table border=\"1\" class=\"dataframe\">\n",
              "  <thead>\n",
              "    <tr style=\"text-align: right;\">\n",
              "      <th></th>\n",
              "      <th>ITE_ITEM_TITLE</th>\n",
              "      <th>ITE_ITEM_TITLE</th>\n",
              "      <th>score Similitud (0,1)</th>\n",
              "    </tr>\n",
              "  </thead>\n",
              "  <tbody>\n",
              "    <tr>\n",
              "      <th>863</th>\n",
              "      <td>tenis rose confortavel imperdivel</td>\n",
              "      <td>rose confortavel imperdivel</td>\n",
              "      <td>0.965449</td>\n",
              "    </tr>\n",
              "    <tr>\n",
              "      <th>798</th>\n",
              "      <td>bicicleta oggi big wheel</td>\n",
              "      <td>bicicleta oggi big wheel aro</td>\n",
              "      <td>0.958751</td>\n",
              "    </tr>\n",
              "    <tr>\n",
              "      <th>891</th>\n",
              "      <td>cannondale fsi carbon</td>\n",
              "      <td>bike cannondale fsi carbon</td>\n",
              "      <td>0.953871</td>\n",
              "    </tr>\n",
              "    <tr>\n",
              "      <th>73</th>\n",
              "      <td>tenis nike court vision low premium mtz origin...</td>\n",
              "      <td>tenis nike court vision low premium mtz original</td>\n",
              "      <td>0.953164</td>\n",
              "    </tr>\n",
              "    <tr>\n",
              "      <th>940</th>\n",
              "      <td>tenis mizuno wave invictus</td>\n",
              "      <td>tenis feminino mizuno wave invictus</td>\n",
              "      <td>0.952792</td>\n",
              "    </tr>\n",
              "    <tr>\n",
              "      <th>545</th>\n",
              "      <td>tenis actvitta marinho preto masculino original</td>\n",
              "      <td>tenis actvitta marinho masculino original</td>\n",
              "      <td>0.952776</td>\n",
              "    </tr>\n",
              "    <tr>\n",
              "      <th>910</th>\n",
              "      <td>tenis vizzano chunky sneaker confortavel feminino</td>\n",
              "      <td>tenis vizzano chunky sneaker confortavel</td>\n",
              "      <td>0.952575</td>\n",
              "    </tr>\n",
              "    <tr>\n",
              "      <th>799</th>\n",
              "      <td>bicicleta oggi big wheel</td>\n",
              "      <td>bicicleta oggi big wheel tam</td>\n",
              "      <td>0.949320</td>\n",
              "    </tr>\n",
              "    <tr>\n",
              "      <th>756</th>\n",
              "      <td>tenis rainha drive masculino preto</td>\n",
              "      <td>tenis rainha drive masculino</td>\n",
              "      <td>0.948416</td>\n",
              "    </tr>\n",
              "    <tr>\n",
              "      <th>56</th>\n",
              "      <td>tenis vizzano feminino jogging casual</td>\n",
              "      <td>tenis vizzano feminino jogging casual preto</td>\n",
              "      <td>0.947719</td>\n",
              "    </tr>\n",
              "  </tbody>\n",
              "</table>\n",
              "</div>\n",
              "      <button class=\"colab-df-convert\" onclick=\"convertToInteractive('df-0aaa5982-1165-4ac8-8b50-27dfb9aa3fd9')\"\n",
              "              title=\"Convert this dataframe to an interactive table.\"\n",
              "              style=\"display:none;\">\n",
              "        \n",
              "  <svg xmlns=\"http://www.w3.org/2000/svg\" height=\"24px\"viewBox=\"0 0 24 24\"\n",
              "       width=\"24px\">\n",
              "    <path d=\"M0 0h24v24H0V0z\" fill=\"none\"/>\n",
              "    <path d=\"M18.56 5.44l.94 2.06.94-2.06 2.06-.94-2.06-.94-.94-2.06-.94 2.06-2.06.94zm-11 1L8.5 8.5l.94-2.06 2.06-.94-2.06-.94L8.5 2.5l-.94 2.06-2.06.94zm10 10l.94 2.06.94-2.06 2.06-.94-2.06-.94-.94-2.06-.94 2.06-2.06.94z\"/><path d=\"M17.41 7.96l-1.37-1.37c-.4-.4-.92-.59-1.43-.59-.52 0-1.04.2-1.43.59L10.3 9.45l-7.72 7.72c-.78.78-.78 2.05 0 2.83L4 21.41c.39.39.9.59 1.41.59.51 0 1.02-.2 1.41-.59l7.78-7.78 2.81-2.81c.8-.78.8-2.07 0-2.86zM5.41 20L4 18.59l7.72-7.72 1.47 1.35L5.41 20z\"/>\n",
              "  </svg>\n",
              "      </button>\n",
              "      \n",
              "  <style>\n",
              "    .colab-df-container {\n",
              "      display:flex;\n",
              "      flex-wrap:wrap;\n",
              "      gap: 12px;\n",
              "    }\n",
              "\n",
              "    .colab-df-convert {\n",
              "      background-color: #E8F0FE;\n",
              "      border: none;\n",
              "      border-radius: 50%;\n",
              "      cursor: pointer;\n",
              "      display: none;\n",
              "      fill: #1967D2;\n",
              "      height: 32px;\n",
              "      padding: 0 0 0 0;\n",
              "      width: 32px;\n",
              "    }\n",
              "\n",
              "    .colab-df-convert:hover {\n",
              "      background-color: #E2EBFA;\n",
              "      box-shadow: 0px 1px 2px rgba(60, 64, 67, 0.3), 0px 1px 3px 1px rgba(60, 64, 67, 0.15);\n",
              "      fill: #174EA6;\n",
              "    }\n",
              "\n",
              "    [theme=dark] .colab-df-convert {\n",
              "      background-color: #3B4455;\n",
              "      fill: #D2E3FC;\n",
              "    }\n",
              "\n",
              "    [theme=dark] .colab-df-convert:hover {\n",
              "      background-color: #434B5C;\n",
              "      box-shadow: 0px 1px 3px 1px rgba(0, 0, 0, 0.15);\n",
              "      filter: drop-shadow(0px 1px 2px rgba(0, 0, 0, 0.3));\n",
              "      fill: #FFFFFF;\n",
              "    }\n",
              "  </style>\n",
              "\n",
              "      <script>\n",
              "        const buttonEl =\n",
              "          document.querySelector('#df-0aaa5982-1165-4ac8-8b50-27dfb9aa3fd9 button.colab-df-convert');\n",
              "        buttonEl.style.display =\n",
              "          google.colab.kernel.accessAllowed ? 'block' : 'none';\n",
              "\n",
              "        async function convertToInteractive(key) {\n",
              "          const element = document.querySelector('#df-0aaa5982-1165-4ac8-8b50-27dfb9aa3fd9');\n",
              "          const dataTable =\n",
              "            await google.colab.kernel.invokeFunction('convertToInteractive',\n",
              "                                                     [key], {});\n",
              "          if (!dataTable) return;\n",
              "\n",
              "          const docLinkHtml = 'Like what you see? Visit the ' +\n",
              "            '<a target=\"_blank\" href=https://colab.research.google.com/notebooks/data_table.ipynb>data table notebook</a>'\n",
              "            + ' to learn more about interactive tables.';\n",
              "          element.innerHTML = '';\n",
              "          dataTable['output_type'] = 'display_data';\n",
              "          await google.colab.output.renderOutput(dataTable, element);\n",
              "          const docLink = document.createElement('div');\n",
              "          docLink.innerHTML = docLinkHtml;\n",
              "          element.appendChild(docLink);\n",
              "        }\n",
              "      </script>\n",
              "    </div>\n",
              "  </div>\n",
              "  "
            ]
          },
          "metadata": {},
          "execution_count": 44
        }
      ]
    },
    {
      "cell_type": "markdown",
      "source": [
        "Fuente: https://bergvca.github.io/2017/10/14/super-fast-string-matching.html"
      ],
      "metadata": {
        "id": "3Zy5htTYNBdO"
      }
    }
  ]
}