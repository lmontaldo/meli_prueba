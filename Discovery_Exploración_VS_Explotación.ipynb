{
  "nbformat": 4,
  "nbformat_minor": 0,
  "metadata": {
    "colab": {
      "private_outputs": true,
      "provenance": [],
      "collapsed_sections": [],
      "toc_visible": true,
      "authorship_tag": "ABX9TyODSym+I4jA/32So2TY+f9I",
      "include_colab_link": true
    },
    "kernelspec": {
      "name": "python3",
      "display_name": "Python 3"
    },
    "language_info": {
      "name": "python"
    }
  },
  "cells": [
    {
      "cell_type": "markdown",
      "metadata": {
        "id": "view-in-github",
        "colab_type": "text"
      },
      "source": [
        "<a href=\"https://colab.research.google.com/github/lmontaldo/meli_prueba/blob/Jupyter-Colabs/Discovery_Exploraci%C3%B3n_VS_Explotaci%C3%B3n.ipynb\" target=\"_parent\"><img src=\"https://colab.research.google.com/assets/colab-badge.svg\" alt=\"Open In Colab\"/></a>"
      ]
    },
    {
      "cell_type": "markdown",
      "source": [
        "# Discovery\n",
        "\n",
        "Problema: obtener un buen mix entre exploración y explotación en las recomendaciones o en el ordenamiento. Donde por explotación nos referimos a colocar en las primeras posiciones productos\n",
        "que sabemos funcionan bien en estas posiciones, mientras que explorar refiere a\n",
        "colocar productos que todavía no sabemos cómo van a performar pero son buenos\n",
        "candidatos.\n",
        "\n",
        "El desafío es diseñar un sistema que mediante la interacción en\n",
        "producción con los **usuarios** nos permita definir en cuantas posiciones del\n",
        "ordenamiento queremos explorar y en cuantas explotar.\n",
        "\n",
        "Challenge: diseño y propuesta de experimentación\n",
        "en producción y te dejamos algunas preguntas a modo de guia:\n",
        "\n",
        "* ¿Que tipo de enfoque utilizar para definir en que % de posiciones explorar y en\n",
        "que % explotar?\n",
        "* ¿Qué métrica usarías para medir este experimento?\n",
        "* ¿Cómo aprovecharías la interacción y el feedback de los usuarios?"
      ],
      "metadata": {
        "id": "kPK3rCLQ0WwV"
      }
    },
    {
      "cell_type": "markdown",
      "source": [
        "## El tipo de enfoque\n",
        "\n",
        "Para el problema en cuestión sería útil emplear un testeo A/B, que consiste en un experimento de tipo aleatorio para el cual se ponen a prueba  hipótesis típicas de la estadística. Se basa en la experiencia del usuario interactuando con la plataformas de e-commerce. Este tipo de test sirve para extraer conclusiones sobre la experiencia de usurios en problemas como los del desafío.\n",
        "\n",
        "Consiste en tener dos grupos, A y B, el grupo A sería el de control y el grupo B el de tratamiento. El primer grupo recibiría un mix de productos ya empleado en el pasado, es decir, se le podría dar al grupo A sólo productos de explotación mientras que al B un mix de prueba entre explotación y exploración.\n",
        "\n",
        "Trás un cierto tiempo de prueba definido, se comparan las métricas entre ambos grupos para determinar si los cambios proporcionados entre ambos tuvo resultados positivos o no.\n",
        "\n",
        "Supongamos que dividimos a los usuarios en grupos iguales.\n",
        "\n",
        "## Métricas a emplear\n",
        "\n",
        "1- click en los botones de comprar\n",
        "\n",
        "2- tasa conversión del usuario en distintos niveles\n",
        "\n",
        "3- promedio de productos comprados por canasta\n",
        "\n",
        "Con respecto a la primer métrica, sería interesante evaluar qué grupo recibió más clicks en los botones de compra.\n",
        "\n",
        "Segundo, un conjunto de métricas a utilizar y comparar entre grupos son las interacciones de los usurios y la conversión, es decir, los pasos que dan en sentido de la compra dentro de la plataforma.\n",
        "\n",
        "\n",
        "En cuanto a interacciones, analizar si los usuarios del grupo B se sienten atraídos por los productos de exploración y dan click sobre los mismos para evaluar o efectivizar una compra. Comparar la cantidad de interacciones y el tiempo de sesión en cada paso sería un buen punto de partida para analizar el nivel de \"engagement\" del usuario frente al estímulo de nuevos productos en relación a usuarios que perciben sólo productos de explotación.Esto permite evaluar cuantas canastas pasaron a ser compras reales.\n",
        "\n",
        "Tercer, si el usuario efectivamente se sintió más atraído a comprar en uno de los escenarios, es posible recabar esto siguiendo el promedio de productos comprados por canasta. De esta forma, se puede analizar qué escenario recibe el mayor promedio.\n",
        "\n",
        "## Interacción y el feedback de los usuarios\n",
        "\n",
        "Una vez que se compra un producto en Mercado Libre, el usuario puede evaluar de forma ordinal la atención del vendedor (mala, regular, buena), dejar un mensaje y evaluar el producto. Se podrían comparar los resultados de las compras, analizando los promedio de los feedback de carácter ordinal, por ejemplo, qué grupo en promedio tuvo notas sobre los vendedores buenas así como también emplear técnicas de procesamiento natural del lenguaje para extraer información que sea útil para la toma de decisiones."
      ],
      "metadata": {
        "id": "zyaLavtD1IbU"
      }
    }
  ]
}